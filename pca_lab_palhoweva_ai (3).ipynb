{
  "nbformat": 4,
  "nbformat_minor": 0,
  "metadata": {
    "colab": {
      "provenance": [],
      "toc_visible": true,
      "gpuType": "V28"
    },
    "kernelspec": {
      "name": "python3",
      "display_name": "Python 3"
    },
    "language_info": {
      "name": "python"
    },
    "accelerator": "TPU"
  },
  "cells": [
    {
      "cell_type": "code",
      "source": [
        "X = [\n",
        "    [1, 3, 3],\n",
        "    [12, 5, 6],\n",
        "    [0.4, 8, 1],\n",
        "\n",
        "]"
      ],
      "metadata": {
        "id": "_XYT8bEeMIRJ"
      },
      "execution_count": 1,
      "outputs": []
    },
    {
      "cell_type": "code",
      "source": [
        "class Matrix:\n",
        "    def __init__(self, matrix):\n",
        "      \"\"\"\n",
        "      Инициализирует разреженную матрицу.\n",
        "\n",
        "      :param matrix: Матрица списком.\n",
        "      \"\"\"\n",
        "      self.rows = len(matrix)\n",
        "      self.cols = len(matrix[0])\n",
        "\n",
        "      self.values = []\n",
        "      self.col_index = []\n",
        "      self.row_pointers = [0]\n",
        "\n",
        "      for i in range(len(matrix)):\n",
        "        for j in range(len(matrix[i])):\n",
        "          if matrix[i][j] != 0:\n",
        "            self.values.append(matrix[i][j])\n",
        "            self.col_index.append(j)\n",
        "        self.row_pointers.append(len(self.values))\n",
        "\n",
        "    def trace(self):\n",
        "      \"\"\"\n",
        "      Вычисляет след матрицы (cумма элементов главной диагонали).\n",
        "\n",
        "      :return: след матрицы.\n",
        "      \"\"\"\n",
        "      trace = 0\n",
        "\n",
        "      for row_index in range(len(self.row_pointers) - 1):\n",
        "        start = self.row_pointers[row_index]\n",
        "        end = self.row_pointers[row_index + 1]\n",
        "\n",
        "        for i in range(start, end):\n",
        "          if self.col_index[i] == row_index:\n",
        "            trace += self.values[i]\n",
        "\n",
        "      return trace\n",
        "\n",
        "    def get_element(self, row, col):\n",
        "      \"\"\"\n",
        "      Находит элемент матрицы по списку\n",
        "\n",
        "      :param row: Индекс строки\n",
        "      :param col: Индекс столбца\n",
        "\n",
        "      :return: Значение элемента.\n",
        "      \"\"\"\n",
        "      if row < 1 or col < 1 or row > self.rows or col > self.cols:\n",
        "        raise IndexError(\"Индекс(-ы) выходят за пределы матрицы\")\n",
        "\n",
        "      row -= 1\n",
        "      col -= 1\n",
        "\n",
        "      start = self.row_pointers[row]\n",
        "      end = self.row_pointers[row + 1]\n",
        "\n",
        "      for i in range(start, end):\n",
        "        if self.col_index[i] == col:\n",
        "          return self.values[i]\n",
        "\n",
        "      return 0\n",
        "\n",
        "    def return_full_matrix(self):\n",
        "      \"\"\"\n",
        "      Возвращает плотную матрицу в виде списка.\n",
        "\n",
        "      :return: Матрица в виде списка.\n",
        "      \"\"\"\n",
        "      print_matrix = [[0 for _ in range(self.cols)] for _ in range(self.rows)]\n",
        "\n",
        "      for row_index in range(len(self.row_pointers) - 1):\n",
        "        start = self.row_pointers[row_index]\n",
        "        end = self.row_pointers[row_index + 1]\n",
        "\n",
        "        for i in range(start, end):\n",
        "          col = self.col_index[i]\n",
        "          print_matrix[row_index][col] = self.values[i]\n",
        "\n",
        "      return print_matrix\n",
        "\n",
        "    def return_csr_matrix(self):\n",
        "      \"\"\"\n",
        "      Возвращает матрицу разреженно-строчном виде.\n",
        "\n",
        "      :return: Матрица в разреженно-строчном виде.\n",
        "      \"\"\"\n",
        "      return self.values, self.col_index, self.row_pointers\n",
        "\n",
        "    def determinant(self) -> float:\n",
        "      \"\"\"\n",
        "      Вычисляет определитель матрицы (рекурсивно по минорам).\n",
        "      \"\"\"\n",
        "      if self.rows != self.cols:\n",
        "        raise ValueError(\"Невозможно найти определитель для неквадратной матрицы\")\n",
        "\n",
        "      if self.rows == 1:\n",
        "        return self.values[0] if self.values else 0.0\n",
        "      if self.rows == 2:\n",
        "        a = self.get_element(1, 1)\n",
        "        b = self.get_element(1, 2)\n",
        "        c = self.get_element(2, 1)\n",
        "        d = self.get_element(2, 2)\n",
        "        return a * d - b * c\n",
        "\n",
        "      det = 0.0\n",
        "      full = self.return_full_matrix()\n",
        "      start, end = self.row_pointers[0], self.row_pointers[1]\n",
        "\n",
        "      for idx in range(start, end):\n",
        "        col = self.col_index[idx]\n",
        "        val = self.values[idx]\n",
        "\n",
        "        minor_dense = []\n",
        "        for row in full[1:]:\n",
        "          minor_dense.append([row[j] for j in range(self.cols) if j != col])\n",
        "\n",
        "        minor = self.__class__(minor_dense)\n",
        "\n",
        "        sign = -1 if (col % 2) else 1\n",
        "\n",
        "        det += val * sign * minor.determinant()\n",
        "\n",
        "      return det\n",
        "\n",
        "    def multiply(self, other: 'Matrix') -> 'Matrix':\n",
        "      \"\"\"\n",
        "      A(i×p) · B(p×m) → C(i×m) в CSR формате, чистый проход по строкам A и\n",
        "      соответствующим строкам B (CSR у B позволяет быстро брать строки).\n",
        "      \"\"\"\n",
        "      if self.cols != other.rows:\n",
        "          raise ValueError(\"Число столбцов A != числу строк B\")\n",
        "\n",
        "      result = Matrix.__new__(Matrix)\n",
        "      result.rows, result.cols = self.rows, other.cols\n",
        "      result.values, result.col_index, result.row_pointers = [], [], [0]\n",
        "\n",
        "      for i in range(self.rows):\n",
        "          row_acc = {}\n",
        "          # проходим по ненулевым в A[i,*]\n",
        "          for idx1 in range(self.row_pointers[i], self.row_pointers[i+1]):\n",
        "              j  = self.col_index[idx1]   # кол-во столбцов A == кол-во строк B\n",
        "              v1 = self.values[idx1]\n",
        "              # обходим строку j матрицы B\n",
        "              for idx2 in range(other.row_pointers[j], other.row_pointers[j+1]):\n",
        "                  k  = other.col_index[idx2]\n",
        "                  v2 = other.values[idx2]\n",
        "                  row_acc[k] = row_acc.get(k, 0.0) + v1 * v2\n",
        "          # заполняем результат i‑й строкой\n",
        "          for col in sorted(row_acc):\n",
        "              result.col_index.append(col)\n",
        "              result.values.append(row_acc[col])\n",
        "          result.row_pointers.append(len(result.values))\n",
        "\n",
        "      return result\n",
        "\n",
        "    def T(self) -> 'Matrix':\n",
        "      \"\"\"\n",
        "      Возвращает транспонированную матрицу\n",
        "      \"\"\"\n",
        "      values, col_index, row_ptrs = [], [], [0]\n",
        "\n",
        "      for col in range(self.cols):\n",
        "          for row in range(self.rows):\n",
        "              val = self.get_element(row + 1, col + 1)\n",
        "              if val != 0:\n",
        "                  values.append(val)\n",
        "                  col_index.append(row)\n",
        "          row_ptrs.append(len(values))\n",
        "\n",
        "      trans = Matrix.__new__(Matrix)\n",
        "      trans.rows, trans.cols = self.cols, self.rows\n",
        "      trans.values, trans.col_index, trans.row_pointers = (values, col_index, row_ptrs)\n",
        "      return trans\n",
        "\n",
        "    def minus_lambda_I(self, lam: float) -> 'Matrix':\n",
        "      \"\"\"Возвращает матрицу (A − λI).\"\"\"\n",
        "      full = self.return_full_matrix()\n",
        "      for i in range(self.rows):\n",
        "          full[i][i] -= lam\n",
        "      return Matrix(full)\n"
      ],
      "metadata": {
        "id": "CATmYrX98xrp"
      },
      "execution_count": 2,
      "outputs": []
    },
    {
      "cell_type": "code",
      "source": [
        "def calculate_means(data):\n",
        "    \"\"\"Вычисление средних значений для каждого признака\"\"\"\n",
        "    return [sum(col)/len(col) for col in zip(*data)]\n",
        "\n",
        "def dot_product(v1, v2) -> float:\n",
        "    return sum(x*y for x, y in zip(v1, v2))\n",
        "\n",
        "def transpose(matrix):\n",
        "    return [list(row) for row in zip(*matrix)]\n",
        "\n"
      ],
      "metadata": {
        "id": "yIBaiV_kd5LJ"
      },
      "execution_count": 3,
      "outputs": []
    },
    {
      "cell_type": "code",
      "source": [
        "import typing\n",
        "from typing import List, Tuple"
      ],
      "metadata": {
        "id": "LNdp19OtvDPd"
      },
      "execution_count": 4,
      "outputs": []
    },
    {
      "cell_type": "markdown",
      "source": [
        "1.1\n"
      ],
      "metadata": {
        "id": "UpmepzcFj0oq"
      }
    },
    {
      "cell_type": "markdown",
      "source": [
        "гаус\n"
      ],
      "metadata": {
        "id": "I_h82UZAfF0V"
      }
    },
    {
      "cell_type": "code",
      "source": [
        "from typing import List\n",
        "\n",
        "def gauss_solver(A: List[List[float]], b: List[float]) -> List[List[float]]:\n",
        "    \"\"\"\n",
        "    Вход:\n",
        "    A: матрица коэффициентов (n×n). Используется класс Matrix из предыдущей\n",
        "    лабораторной работы,→\n",
        "    b: вектор правых частей (n×1)\n",
        "    Выход:\n",
        "    list[Matrix]: список базисных векторов решения системы\n",
        "    Raises:\n",
        "    ValueError: если система несовместна\n",
        "    \"\"\"\n",
        "    eps = 1e-12\n",
        "    n = len(A)\n",
        "\n",
        "    # расширенная м-ца\n",
        "    augmented = [row[:] + [b[i]] for i, row in enumerate(A)]\n",
        "\n",
        "    pivot_cols = []\n",
        "    current_row = 0\n",
        "\n",
        "    # гаусом проходим\n",
        "    for col in range(n):\n",
        "        # находим макс знач\n",
        "        pivot_row = None\n",
        "        max_val = 0.0\n",
        "        for row in range(current_row, n):\n",
        "            if abs(augmented[row][col]) > max_val:\n",
        "                max_val = abs(augmented[row][col])\n",
        "                pivot_row = row\n",
        "\n",
        "        # скип если маленькое число\n",
        "        if pivot_row is None or max_val < eps:\n",
        "            continue\n",
        "\n",
        "        # свапаем если хотим\n",
        "        if pivot_row != current_row:\n",
        "            augmented[current_row], augmented[pivot_row] = augmented[pivot_row], augmented[current_row]\n",
        "\n",
        "        # нормисуем\n",
        "        pivot = augmented[current_row][col]\n",
        "        for j in range(col, n + 1):\n",
        "            augmented[current_row][j] /= pivot\n",
        "\n",
        "        # удаляем из других строк\n",
        "        for row in range(n):\n",
        "            if row != current_row:\n",
        "                factor = augmented[row][col]\n",
        "                if abs(factor) > eps:\n",
        "                    for j in range(col, n + 1):\n",
        "                        augmented[row][j] -= factor * augmented[current_row][j]\n",
        "\n",
        "        pivot_cols.append(col)\n",
        "        current_row += 1\n",
        "        if current_row == n:\n",
        "            break\n",
        "\n",
        "    # совместна или не\n",
        "    for row in range(current_row, n):\n",
        "        if abs(augmented[row][n]) > eps:\n",
        "            raise ValueError(\"Система несовместна\")\n",
        "\n",
        "    # свободные переменные\n",
        "    free_cols = [col for col in range(n) if col not in pivot_cols]\n",
        "\n",
        "    # частное решение\n",
        "    xp = [0.0] * n\n",
        "    for i, col in enumerate(pivot_cols):\n",
        "        xp[col] = augmented[i][n]\n",
        "\n",
        "    # базис (A*x = 0)\n",
        "    null_basis = []\n",
        "    for free in free_cols:\n",
        "        vec = [0.0] * n\n",
        "        vec[free] = 1.0\n",
        "\n",
        "        # находим значения завис перм\n",
        "        for i, pivot in enumerate(pivot_cols):\n",
        "            vec[pivot] = -augmented[i][free]\n",
        "\n",
        "        null_basis.append(vec)\n",
        "\n",
        "    return [xp] + null_basis, free_cols\n",
        "\n",
        "\n",
        "#   2x + y = 5\n",
        "#   x - y = 1\n",
        "A1 = [\n",
        "    [2, 1],\n",
        "    [1, -1]\n",
        "]\n",
        "b1 = [5, 1]\n",
        "sol1 = gauss_solver(A1, b1)\n",
        "print(\"пупипам\")\n",
        "for sol in sol1:\n",
        "    print(sol)\n"
      ],
      "metadata": {
        "colab": {
          "base_uri": "https://localhost:8080/"
        },
        "id": "Nc5RzsODeBB-",
        "outputId": "64ff6368-203b-4b7f-8f27-97ce64bf9c7f"
      },
      "execution_count": 5,
      "outputs": [
        {
          "output_type": "stream",
          "name": "stdout",
          "text": [
            "пупипам\n",
            "[[2.0, 1.0]]\n",
            "[]\n"
          ]
        }
      ]
    },
    {
      "cell_type": "markdown",
      "source": [
        "1.2\n"
      ],
      "metadata": {
        "id": "FgXt7x5Hj1k0"
      }
    },
    {
      "cell_type": "code",
      "source": [
        "import math\n",
        "from typing import List, Tuple\n",
        "\n",
        "def center_data(X: List[List[float]]) -> List[List[float]]:\n",
        "    \"\"\"\n",
        "    Вход: матрица данных X (n×m)\n",
        "    Выход: центрированная матрица X_centered (n×m)\n",
        "    \"\"\"\n",
        "    if not X or not X[0]:\n",
        "        return X\n",
        "\n",
        "    n_samples = len(X)\n",
        "    n_features = len(X[0])\n",
        "\n",
        "    # находим среднее по каждому\n",
        "    means = [0.0] * n_features\n",
        "    for row in X:\n",
        "        for j in range(n_features):\n",
        "            means[j] += row[j]\n",
        "    means = [m / n_samples for m in means]\n",
        "\n",
        "    # центрируем\n",
        "    X_centered = []\n",
        "    for row in X:\n",
        "        centered_row = [row[j] - means[j] for j in range(n_features)]\n",
        "        X_centered.append(centered_row)\n",
        "\n",
        "    return X_centered, means\n",
        "\n"
      ],
      "metadata": {
        "id": "zL6SwkbZj2L7"
      },
      "execution_count": 6,
      "outputs": []
    },
    {
      "cell_type": "markdown",
      "source": [
        "1.3"
      ],
      "metadata": {
        "id": "IF01TltMj21S"
      }
    },
    {
      "cell_type": "code",
      "source": [
        "from typing import List\n",
        "\n",
        "def covariance_matrix(X_centered: List[List[float]]) -> List[List[float]]:\n",
        "    \"\"\"\n",
        "    Вход: центрированная матрица X_centered (n×m)\n",
        "    Выход: матрица ковариаций C (m×m)\n",
        "    \"\"\"\n",
        "    n = len(X_centered)\n",
        "    if n < 2:\n",
        "        raise ValueError(\"мало\")\n",
        "\n",
        "    if not X_centered:\n",
        "        return []\n",
        "\n",
        "    m = len(X_centered[0])\n",
        "\n",
        "    #проверка, что все строки одинаковой длины\n",
        "    if any(len(row) != m for row in X_centered):\n",
        "        raise ValueError(\"одинаковая длина\")\n",
        "\n",
        "    #инициализация матрицы ковариаций\n",
        "    C = [[0.0 for _ in range(m)] for _ in range(m)]\n",
        "\n",
        "    #вычисляем сумму произведений для каждой пары признаков\n",
        "    for i in range(m):\n",
        "        for j in range(i, m):\n",
        "            cov = sum(X_centered[k][i] * X_centered[k][j] for k in range(n)) / (n - 1)\n",
        "            C[i][j] = cov\n",
        "            if i != j:\n",
        "                C[j][i] = cov\n",
        "\n",
        "    return C"
      ],
      "metadata": {
        "id": "TtvCW10pj4bs"
      },
      "execution_count": 7,
      "outputs": []
    },
    {
      "cell_type": "markdown",
      "source": [
        "2.1"
      ],
      "metadata": {
        "id": "RmN3D5Tzj6LW"
      }
    },
    {
      "cell_type": "code",
      "source": [
        "from typing import List\n",
        "\n",
        "def find_eigenvalues(C: List[List[float]], tol: float = 1e-6, max_iter: int = 100, flagg = False) -> List[float]:\n",
        "    \"\"\"\n",
        "    Вход:\n",
        "    C: матрица ковариаций (m×m)\n",
        "    tol: допустимая погрешность\n",
        "    Выход: список вещественных собственных значений\n",
        "    \"\"\"\n",
        "    m = len(C)\n",
        "    if m != len(C[0]):\n",
        "        raise ValueError(\"Матрица должна быть квадратной\")\n",
        "\n",
        "    # 1. Оценка диапазона λ (круги Гершгорина)\n",
        "    lo, hi = float('inf'), -float('inf')\n",
        "    for i in range(m):\n",
        "        center = C[i][i]\n",
        "        radius = sum(abs(C[i][j]) for j in range(m) if j != i)\n",
        "        lo = min(lo, center - radius)\n",
        "        hi = max(hi, center + radius)\n",
        "\n",
        "    # Если все λ одинаковы (вырожденный случай)\n",
        "    if abs(hi - lo) < tol:\n",
        "        return [C[0][0]] * m\n",
        "\n",
        "\n",
        "\n",
        "    # 3. Поиск интервалов смены знака det(C - λI)\n",
        "    def f(lam: float) -> float:\n",
        "        C_shifted = [row.copy() for row in C]\n",
        "        for i in range(m):\n",
        "            C_shifted[i][i] -= lam\n",
        "            C_shiftedd = Matrix(C_shifted)\n",
        "        return C_shiftedd.determinant()\n",
        "\n",
        "    # Грубая сетка для поиска интервалов\n",
        "    q = m * 4\n",
        "    step = (hi - lo) / q\n",
        "    intervals = []\n",
        "    a = lo\n",
        "    fa = f(a)\n",
        "    for _ in range(q):\n",
        "        b = a + step\n",
        "        fb = f(b)\n",
        "        if abs(fa) < tol:\n",
        "            intervals.append((a, a))\n",
        "        elif abs(fb) < tol:\n",
        "            intervals.append((b, b))\n",
        "        elif fa * fb < 0:\n",
        "            intervals.append((a, b))\n",
        "        a, fa = b, fb\n",
        "\n",
        "    # 4. Уточнение корней бисекцией\n",
        "    roots = []\n",
        "    for a, b in intervals:\n",
        "        if a == b:\n",
        "            roots.append(a)\n",
        "            continue\n",
        "        fa = f(a)\n",
        "        for _ in range(max_iter):\n",
        "            mid = (a + b) / 2\n",
        "            fmid = f(mid)\n",
        "            if abs(fmid) < tol:\n",
        "                roots.append(mid)\n",
        "                break\n",
        "            if fa * fmid < 0:\n",
        "                b = mid\n",
        "            else:\n",
        "                a, fa = mid, fmid\n",
        "        else:\n",
        "            roots.append((a + b) / 2)\n",
        "\n",
        "    # 5. Если корней меньше m, добавляем дубликаты\n",
        "    if flagg:\n",
        "      while len(roots) < m:\n",
        "          roots.append(roots[-1] if roots else 0.0)\n",
        "\n",
        "    return sorted(roots, reverse=True)\n",
        "\n",
        "\n"
      ],
      "metadata": {
        "id": "pxBTU2Oaj6vN"
      },
      "execution_count": 8,
      "outputs": []
    },
    {
      "cell_type": "markdown",
      "source": [
        "2.2"
      ],
      "metadata": {
        "id": "WsQFGuGrj7kI"
      }
    },
    {
      "cell_type": "code",
      "source": [
        "def find_eigenvectors(C: List[List[float]],\n",
        "                     eigenvalues: List[float],\n",
        "                     tol: float = 1e-6) -> List[List[float]]:\n",
        "    \"\"\"\n",
        "    Вход:\n",
        "    C: матрица ковариаций (m×m)\n",
        "    eigenvalues: список собственных значений\n",
        "    Выход: список собственных векторов (каждый вектор - объект Matrix)\n",
        "    \"\"\"\n",
        "    m = len(C)\n",
        "    eigenvectors = []\n",
        "\n",
        "    for lambda_ in eigenvalues:\n",
        "        # матрица (C - λI)\n",
        "        A = [[C[i][j] - (lambda_ if i == j else 0.0) for j in range(m)] for i in range(m)]\n",
        "\n",
        "        # к ступенчатому\n",
        "        rank = 0\n",
        "        for col in range(m):\n",
        "            # макс эл\n",
        "            pivot_row = max(range(rank, m), key=lambda r: abs(A[r][col]), default=-1)\n",
        "            if pivot_row == -1 or abs(A[pivot_row][col]) < tol:\n",
        "                continue\n",
        "\n",
        "            A[rank], A[pivot_row] = A[pivot_row], A[rank]\n",
        "\n",
        "            # нормируем\n",
        "            pivot_val = A[rank][col]\n",
        "            A[rank] = [x/pivot_val for x in A[rank]]\n",
        "\n",
        "            # исключаем из друг\n",
        "            for row in range(m):\n",
        "                if row != rank and abs(A[row][col]) > tol:\n",
        "                    factor = A[row][col]\n",
        "                    A[row] = [A[row][j] - factor * A[rank][j] for j in range(m)]\n",
        "            rank += 1\n",
        "\n",
        "        # Находим свободные переменные\n",
        "        pivot_cols = []\n",
        "        for row in range(rank):\n",
        "            for col in range(m):\n",
        "                if abs(A[row][col]) > tol:\n",
        "                    pivot_cols.append(col)\n",
        "                    break\n",
        "\n",
        "        free_cols = [col for col in range(m) if col not in pivot_cols]\n",
        "\n",
        "        if not free_cols:\n",
        "            # Если не нашли свободных переменных, используем метод обратных итераций\n",
        "            eigenvector = [1.0 if i == 0 else 0.0 for i in range(m)]  # Вектор по умолчанию\n",
        "        else:\n",
        "            # Строим собственный вектор\n",
        "            eigenvector = [0.0]*m\n",
        "            eigenvector[free_cols[0]] = 1.0\n",
        "            for row in reversed(range(rank)):\n",
        "                col = pivot_cols[row]\n",
        "                eigenvector[col] = -sum(A[row][j]*eigenvector[j] for j in range(col+1, m))\n",
        "\n",
        "            # Нормализация\n",
        "            norm = math.sqrt(sum(x**2 for x in eigenvector))\n",
        "            if norm > tol:\n",
        "                eigenvector = [x/norm for x in eigenvector]\n",
        "\n",
        "        eigenvectors.append(eigenvector)\n",
        "\n",
        "    return eigenvectors"
      ],
      "metadata": {
        "id": "y6gSfp66pMQa"
      },
      "execution_count": 9,
      "outputs": []
    },
    {
      "cell_type": "markdown",
      "source": [
        "2.3\n"
      ],
      "metadata": {
        "id": "zLvYxw10j-K1"
      }
    },
    {
      "cell_type": "code",
      "source": [
        "from typing import List\n",
        "\n",
        "def explained_variance_ratio(eigenvalues: List[float], k: int) -> float:\n",
        "    \"\"\"\n",
        "    Вход:\n",
        "    eigenvalues: список собственных значений\n",
        "    k: число компонент\n",
        "    Выход: доля объяснённой дисперсии\n",
        "    \"\"\"\n",
        "    # Отфильтровываем отрицательные значения (возникают из-за численных погрешностей)\n",
        "    eigenvalues = [max(0, eig) for eig in eigenvalues]\n",
        "\n",
        "    total_variance = sum(eigenvalues)\n",
        "\n",
        "    if total_variance <= 0:\n",
        "        return 0.0\n",
        "\n",
        "    # Сортируем по убыванию и берем первые k компонент\n",
        "    sorted_eig = sorted(eigenvalues, reverse=True)[:k]\n",
        "\n",
        "    return sum(sorted_eig) / total_variance"
      ],
      "metadata": {
        "id": "Ga7apibqkCDx"
      },
      "execution_count": 10,
      "outputs": []
    },
    {
      "cell_type": "code",
      "source": [
        "def dot(A: List[List[float]], B: List[List[float]]) -> List[List[float]]:\n",
        "    \"\"\"\n",
        "    Умножение матриц A (n×m) и B (m×p) → результат (n×p)\n",
        "    \"\"\"\n",
        "    n = len(A)\n",
        "    m = len(A[0]) if n > 0 else 0\n",
        "    p = len(B[0]) if len(B) > 0 else 0\n",
        "\n",
        "    # Проверка совместимости размеров\n",
        "    if len(B) != m:\n",
        "        raise ValueError(f\"Несовместимые размеры матриц: A {n}x{m} и B {len(B)}x{p}\")\n",
        "\n",
        "    # Инициализация результирующей матрицы\n",
        "    result = [[0.0 for _ in range(p)] for _ in range(n)]\n",
        "\n",
        "    for i in range(n):\n",
        "        for j in range(p):\n",
        "            for k in range(m):\n",
        "                result[i][j] += A[i][k] * B[k][j]\n",
        "\n",
        "    return result"
      ],
      "metadata": {
        "id": "eHN-0EQrnusU"
      },
      "execution_count": 11,
      "outputs": []
    },
    {
      "cell_type": "code",
      "source": [
        "from typing import List, Tuple\n",
        "\n",
        "def sort_eigen(eigenvalues: List[float],\n",
        "               eigenvectors: List[List[float]]) -> Tuple[List[float], List[List[float]]]:\n",
        "    \"\"\"\n",
        "    Сортирует собственные значения и соответствующие им векторы по убыванию значений.\n",
        "\n",
        "    \"\"\"\n",
        "    # Проверка согласованности входных данных\n",
        "    if len(eigenvalues) != len(eigenvectors):\n",
        "        raise ValueError(\"Количество собственных значений должно совпадать с количеством векторов\")\n",
        "\n",
        "    if not eigenvectors:\n",
        "        return [], []\n",
        "\n",
        "    vector_len = len(eigenvectors[0])\n",
        "    for vec in eigenvectors:\n",
        "        if len(vec) != vector_len:\n",
        "            raise ValueError(\"Все собственные векторы должны иметь одинаковую длину\")\n",
        "\n",
        "    # Создаем список кортежей (значение, вектор) для совместной сортировки\n",
        "    paired = list(zip(eigenvalues, eigenvectors))\n",
        "\n",
        "    # Сортируем по убыванию собственных значений\n",
        "    paired.sort(reverse=True, key=lambda x: x[0])\n",
        "\n",
        "    # Разделяем обратно на значения и векторы\n",
        "    sorted_values, sorted_vectors = zip(*paired)\n",
        "\n",
        "    # Преобразуем векторы к списку списков (на случай если на входе были другие последовательности)\n",
        "    sorted_vectors = [list(vec) for vec in sorted_vectors]\n",
        "\n",
        "    return list(sorted_values), sorted_vectors"
      ],
      "metadata": {
        "id": "19ab6LaZpfgt"
      },
      "execution_count": 12,
      "outputs": []
    },
    {
      "cell_type": "markdown",
      "source": [
        "3.1"
      ],
      "metadata": {
        "id": "TJ19ogN3kDcI"
      }
    },
    {
      "cell_type": "code",
      "source": [
        "def pca(X: List[List[float]], k: int, flag = False) -> Tuple[List[List[float]], List[List[float]], List[float], float]:\n",
        "    \"\"\"\n",
        "    Вход:\n",
        "    X: матрица данных (n×m)\n",
        "    k: число главных компонент\n",
        "    Выход:\n",
        "    X_proj: проекция данных (n×k)\n",
        "    : доля объяснённой дисперсии\n",
        "    \"\"\"\n",
        "    # 1. Центрирование данных\n",
        "    X_centered, means = center_data(X)\n",
        "\n",
        "    # 2. Ковариационная матрица\n",
        "    cov_mat = covariance_matrix(X_centered)\n",
        "\n",
        "    # 3. Собственные значения и векторы\n",
        "    if flag:\n",
        "        eigenvalues = find_eigenvalues(cov_mat, flagg=True)\n",
        "    else:\n",
        "        eigenvalues = find_eigenvalues(cov_mat)  # Call without flag or with flag=False\n",
        "    eigenvectors = find_eigenvectors(cov_mat, eigenvalues=eigenvalues)\n",
        "\n",
        "    # 4. Сортировка по убыванию собственных значений\n",
        "    sorted_indices = sorted(range(len(eigenvalues)), key=lambda i: -eigenvalues[i])\n",
        "    eigenvalues_sorted = [eigenvalues[i] for i in sorted_indices]\n",
        "    eigenvectors_sorted = [eigenvectors[i] for i in sorted_indices]\n",
        "\n",
        "    # 5. Выбор первых k компонент\n",
        "    principal_components = eigenvectors_sorted[:k]\n",
        "\n",
        "    # 6. Проекция данных\n",
        "    X_proj = [\n",
        "        [dot_product(row, comp) for comp in principal_components]\n",
        "        for row in X_centered\n",
        "    ]\n",
        "\n",
        "    # 7. Доля объясненной дисперсии\n",
        "    total_variance = sum(eigenvalues_sorted)\n",
        "    var_ratio = sum(eigenvalues_sorted[:k]) / total_variance\n",
        "\n",
        "    return X_proj, principal_components, var_ratio, means"
      ],
      "metadata": {
        "id": "gBauHvscQ2A0"
      },
      "execution_count": 13,
      "outputs": []
    },
    {
      "cell_type": "code",
      "source": [
        "# Загрузка данных\n",
        "from sklearn.datasets import load_iris\n",
        "iris = load_iris()\n",
        "data = [list(map(float, row)) for row in iris.data]"
      ],
      "metadata": {
        "id": "Gy8T3Sbpd8wI"
      },
      "execution_count": 14,
      "outputs": []
    },
    {
      "cell_type": "code",
      "source": [
        "pca(data, k=2)"
      ],
      "metadata": {
        "colab": {
          "base_uri": "https://localhost:8080/"
        },
        "id": "p_03Fif9Jwyd",
        "outputId": "1b2efeed-e006-417c-982d-560aa6bd66b4"
      },
      "execution_count": 15,
      "outputs": [
        {
          "output_type": "execute_result",
          "data": {
            "text/plain": [
              "([[-2.6841256259980932, -0.743333333333335],\n",
              "  [-2.7141416873088686, -0.9433333333333342],\n",
              "  [-2.888990569050816, -1.1433333333333344],\n",
              "  [-2.745342855596523, -1.243333333333335],\n",
              "  [-2.728716536565372, -0.8433333333333346],\n",
              "  [-2.280859632895876, -0.44333333333333425],\n",
              "  [-2.820537750713106, -1.243333333333335],\n",
              "  [-2.626144973151188, -0.8433333333333346],\n",
              "  [-2.88638273172488, -1.4433333333333342],\n",
              "  [-2.672755797805875, -0.9433333333333342],\n",
              "  [-2.5069470907058538, -0.44333333333333425],\n",
              "  [-2.612755230871563, -1.0433333333333348],\n",
              "  [-2.7861092661737485, -1.0433333333333348],\n",
              "  [-3.2238037438153224, -1.5433333333333348],\n",
              "  [-2.644750390082686, -0.04333333333333478],\n",
              "  [-2.386039033635996, -0.14333333333333442],\n",
              "  [-2.623527875325431, -0.44333333333333425],\n",
              "  [-2.6482967062970952, -0.743333333333335],\n",
              "  [-2.199820323701831, -0.14333333333333442],\n",
              "  [-2.587986399899899, -0.743333333333335],\n",
              "  [-2.3102562152808837, -0.44333333333333425],\n",
              "  [-2.543705228795504, -0.743333333333335],\n",
              "  [-3.2159394156504537, -1.243333333333335],\n",
              "  [-2.302733182266138, -0.743333333333335],\n",
              "  [-2.3557540490493976, -1.0433333333333348],\n",
              "  [-2.5066689069302095, -0.8433333333333346],\n",
              "  [-2.468820073141804, -0.8433333333333346],\n",
              "  [-2.5623199062268225, -0.6433333333333344],\n",
              "  [-2.6395347154308135, -0.6433333333333344],\n",
              "  [-2.63198938722865, -1.1433333333333344],\n",
              "  [-2.5873984766613707, -1.0433333333333348],\n",
              "  [-2.4099324970936657, -0.44333333333333425],\n",
              "  [-2.6488623343482054, -0.6433333333333344],\n",
              "  [-2.5987367491663487, -0.3433333333333346],\n",
              "  [-2.6369268781048776, -0.9433333333333342],\n",
              "  [-2.8662416521665595, -0.8433333333333346],\n",
              "  [-2.625238049949955, -0.3433333333333346],\n",
              "  [-2.8006841154302515, -0.9433333333333342],\n",
              "  [-2.980502043735666, -1.4433333333333342],\n",
              "  [-2.5900063139873066, -0.743333333333335],\n",
              "  [-2.7701024260683655, -0.8433333333333346],\n",
              "  [-2.8493687050470036, -1.3433333333333346],\n",
              "  [-2.9974065465424613, -1.4433333333333342],\n",
              "  [-2.4056144851432064, -0.8433333333333346],\n",
              "  [-2.209489237769347, -0.743333333333335],\n",
              "  [-2.7144514267717526, -1.0433333333333348],\n",
              "  [-2.538148258993508, -0.743333333333335],\n",
              "  [-2.839462167607309, -1.243333333333335],\n",
              "  [-2.5430857498697357, -0.5433333333333348],\n",
              "  [-2.7033597823551796, -0.8433333333333346],\n",
              "  [1.2848256887816523, 1.1566666666666654],\n",
              "  [0.9324885322845823, 0.5566666666666658],\n",
              "  [1.4643023219369435, 1.0566666666666658],\n",
              "  [0.18331772000128554, -0.3433333333333346],\n",
              "  [1.0881032576694425, 0.6566666666666654],\n",
              "  [0.6416690843490047, -0.14333333333333442],\n",
              "  [1.095060662633078, 0.4566666666666652],\n",
              "  [-0.7491226697401165, -0.9433333333333342],\n",
              "  [1.0441318260279309, 0.756666666666665],\n",
              "  [-0.008745404010340865, -0.6433333333333344],\n",
              "  [-0.5078408837478672, -0.8433333333333346],\n",
              "  [0.5116985574498029, 0.056666666666665755],\n",
              "  [0.2649765081210984, 0.1566666666666654],\n",
              "  [0.9849345105169091, 0.25666666666666504],\n",
              "  [-0.17392537168477268, -0.24333333333333496],\n",
              "  [0.9278607808712388, 0.8566666666666656],\n",
              "  [0.6602837617803231, -0.24333333333333496],\n",
              "  [0.23610499338373542, -0.04333333333333478],\n",
              "  [0.9447337279907944, 0.3566666666666656],\n",
              "  [0.04522697634898771, -0.24333333333333496],\n",
              "  [1.1162831773903328, 0.056666666666665755],\n",
              "  [0.35788841796758813, 0.25666666666666504],\n",
              "  [1.298183875374038, 0.4566666666666652],\n",
              "  [0.9217289225183111, 0.25666666666666504],\n",
              "  [0.714853325878002, 0.5566666666666658],\n",
              "  [0.9001743731107544, 0.756666666666665],\n",
              "  [1.3320244366748673, 0.9566666666666652],\n",
              "  [1.5578021550219614, 0.8566666666666656],\n",
              "  [0.8132906498392478, 0.1566666666666654],\n",
              "  [-0.3055837780210803, -0.14333333333333442],\n",
              "  [-0.06812649201888506, -0.3433333333333346],\n",
              "  [-0.18962247232727125, -0.3433333333333346],\n",
              "  [0.13642871157095393, -0.04333333333333478],\n",
              "  [1.3800264359913723, 0.1566666666666654],\n",
              "  [0.5880064434525599, -0.44333333333333425],\n",
              "  [0.8068583125232578, 0.1566666666666654],\n",
              "  [1.2206908823944025, 0.8566666666666656],\n",
              "  [0.8150952357418945, 0.4566666666666652],\n",
              "  [0.24595767994877263, -0.24333333333333496],\n",
              "  [0.1664132171944904, -0.3433333333333346],\n",
              "  [0.46480028851964994, -0.3433333333333346],\n",
              "  [0.8908151985061222, 0.25666666666666504],\n",
              "  [0.2305480235817402, -0.04333333333333478],\n",
              "  [-0.7045317591728373, -0.8433333333333346],\n",
              "  [0.3569814947663544, -0.24333333333333496],\n",
              "  [0.33193448001904585, -0.14333333333333442],\n",
              "  [0.37621565112344124, -0.14333333333333442],\n",
              "  [0.6425760075502384, 0.3566666666666656],\n",
              "  [-0.9064698649369187, -0.743333333333335],\n",
              "  [0.2990008419194497, -0.14333333333333442],\n",
              "  [2.5311927278381106, 0.4566666666666652],\n",
              "  [1.415235876766602, -0.04333333333333478],\n",
              "  [2.6166760159479776, 1.256666666666665],\n",
              "  [1.9715310531151613, 0.4566666666666652],\n",
              "  [2.350005920058296, 0.6566666666666654],\n",
              "  [3.3970387360191063, 1.756666666666665],\n",
              "  [0.5212322440521344, -0.9433333333333342],\n",
              "  [2.932587069005699, 1.4566666666666652],\n",
              "  [2.321228816599056, 0.8566666666666656],\n",
              "  [2.916750966710242, 1.3566666666666656],\n",
              "  [1.6617741535977846, 0.6566666666666654],\n",
              "  [1.8034019529646703, 0.5566666666666658],\n",
              "  [2.165591796026778, 0.9566666666666652],\n",
              "  [1.3461635795031253, -0.14333333333333442],\n",
              "  [1.5859282238681935, -0.04333333333333478],\n",
              "  [1.9044563747516738, 0.5566666666666658],\n",
              "  [1.949689059432139, 0.6566666666666654],\n",
              "  [3.4870553642641946, 1.8566666666666656],\n",
              "  [3.7956454220207405, 1.8566666666666656],\n",
              "  [1.300791712699974, 0.1566666666666654],\n",
              "  [2.4278179130006374, 1.0566666666666658],\n",
              "  [1.199001105521662, -0.24333333333333496],\n",
              "  [3.499920038896174, 1.8566666666666656],\n",
              "  [1.3887661316702364, 0.4566666666666652],\n",
              "  [2.2754305038674807, 0.8566666666666656],\n",
              "  [2.6140904738094592, 1.3566666666666656],\n",
              "  [1.258508160495568, 0.3566666666666656],\n",
              "  [1.2911320591322801, 0.25666666666666504],\n",
              "  [2.123608722785434, 0.5566666666666658],\n",
              "  [2.3880030159994816, 1.3566666666666656],\n",
              "  [2.8416727780591993, 1.5566666666666658],\n",
              "  [3.2306736613677964, 2.0566666666666658],\n",
              "  [2.159437642486432, 0.5566666666666658],\n",
              "  [1.444161242378622, 0.4566666666666652],\n",
              "  [1.7812948101935993, 0.25666666666666504],\n",
              "  [3.0764999315480406, 1.8566666666666656],\n",
              "  [2.1442433143041604, 0.4566666666666652],\n",
              "  [1.9050981488648597, 0.5566666666666658],\n",
              "  [1.1693263393610094, 0.1566666666666654],\n",
              "  [2.1076111431798736, 1.0566666666666658],\n",
              "  [2.31415470516988, 0.8566666666666656],\n",
              "  [1.9222678007597027, 1.0566666666666658],\n",
              "  [1.415235876766602, -0.04333333333333478],\n",
              "  [2.5630133750515327, 0.9566666666666652],\n",
              "  [2.418746182671472, 0.8566666666666656],\n",
              "  [1.9441097944427257, 0.8566666666666656],\n",
              "  [1.5271666147854175, 0.4566666666666652],\n",
              "  [1.7643457170119687, 0.6566666666666654],\n",
              "  [1.9009416142245041, 0.3566666666666656],\n",
              "  [1.3901888620192935, 0.056666666666665755]],\n",
              " [[0.36138659163881753,\n",
              "   -0.08452251403397555,\n",
              "   0.8566706060738865,\n",
              "   0.3582891970099781],\n",
              "  [1.0, 0.0, 0.0, 0.0]],\n",
              " 1.0,\n",
              " [5.843333333333335, 3.057333333333334, 3.7580000000000027, 1.199333333333334])"
            ]
          },
          "metadata": {},
          "execution_count": 15
        }
      ]
    },
    {
      "cell_type": "markdown",
      "source": [
        "3.2"
      ],
      "metadata": {
        "id": "PXGkknUAkGHi"
      }
    },
    {
      "cell_type": "code",
      "source": [
        "import matplotlib.pyplot as plt\n",
        "\n",
        "def plot_pca_projection(X_proj: List[List[float]]):\n",
        "    \"\"\"\n",
        "    Вход: проекция данных X_proj (n×2)\n",
        "    Выход: объект Figure из Matplotlib\n",
        "    \"\"\"\n",
        "\n",
        "    if len(X_proj[0]) < 2:\n",
        "        raise ValueError(\"Матрица проекций должна содержать как минимум 2 столбца\")\n",
        "\n",
        "    plt.figure(figsize=(8, 6))\n",
        "    x = [row[0] for row in X_proj]\n",
        "    y = [row[1] for row in X_proj]\n",
        "\n",
        "    plt.scatter(x, y, alpha=0.5)\n",
        "    plt.title('Проекция на первые две главные компоненты')\n",
        "    plt.xlabel('Первая главная компонента')\n",
        "    plt.ylabel('Вторая главная компонента')\n",
        "    plt.grid(True)\n",
        "    plt.show()  # Явный вызов show()\n",
        "proj = pca(data, k = 2)[0]\n",
        "plot_pca_projection(proj)\n"
      ],
      "metadata": {
        "id": "Sp-isgu4kHxG",
        "colab": {
          "base_uri": "https://localhost:8080/",
          "height": 564
        },
        "outputId": "c1fba8d2-5fb6-4509-f62a-f541c0a00803"
      },
      "execution_count": 16,
      "outputs": [
        {
          "output_type": "display_data",
          "data": {
            "text/plain": [
              "<Figure size 800x600 with 1 Axes>"
            ],
            "image/png": "[encoded data removed]"
          },
          "metadata": {}
        }
      ]
    },
    {
      "cell_type": "code",
      "source": [
        "X = data"
      ],
      "metadata": {
        "id": "HjfQmHQNPhdn"
      },
      "execution_count": 17,
      "outputs": []
    },
    {
      "cell_type": "markdown",
      "source": [
        "3.3"
      ],
      "metadata": {
        "id": "-N6qsUlskIMk"
      }
    },
    {
      "cell_type": "code",
      "source": [
        "def reconstruction_error(X_orig: 'Matrix', X_recon: 'Matrix') -> float:\n",
        "  \"\"\"\n",
        "  Вход:\n",
        "  X_orig: исходные данные (n×m)\n",
        "  X_recon: восстановленные данные (n×m)\n",
        "  Выход: среднеквадратическая ошибка MSE\n",
        "  \"\"\"\n",
        "  # Проверка размеров матриц\n",
        "  if len(X_orig) != len(X_recon):\n",
        "      raise ValueError(\"Матрицы должны иметь одинаковое количество строк\")\n",
        "\n",
        "  n = len(X_orig)\n",
        "  if n == 0:\n",
        "      return 0.0\n",
        "\n",
        "  m = len(X_orig[0])\n",
        "  total = 0.0\n",
        "  count = 0\n",
        "\n",
        "  for i in range(n):\n",
        "      # Проверка количества столбцов в каждой строке\n",
        "      if len(X_orig[i]) != len(X_recon[i]):\n",
        "          raise ValueError(\"Строки матриц должны иметь одинаковую длину\")\n",
        "\n",
        "      for j in range(m):\n",
        "          diff = X_orig[i][j] - X_recon[i][j]\n",
        "          total += diff * diff\n",
        "          count += 1\n",
        "\n",
        "  # Вычисление среднего значения\n",
        "  if count == 0:\n",
        "      return 0.0\n",
        "\n",
        "  mse = total / count\n",
        "  return mse\n",
        "rec = pca(data, k = 4, flag = True)[0]\n",
        "print(rec)\n",
        "print(data)\n",
        "reconstruction_error(data, rec)\n"
      ],
      "metadata": {
        "id": "VTUiSefFkJnM",
        "colab": {
          "base_uri": "https://localhost:8080/"
        },
        "outputId": "0df7922c-e29b-4d9c-bcc5-4bb6361b8542"
      },
      "execution_count": 18,
      "outputs": [
        {
          "output_type": "stream",
          "name": "stdout",
          "text": [
            "[[-2.6841256259980932, -2.6841256259980932, -2.6841256259980932, -0.743333333333335], [-2.7141416873088686, -2.7141416873088686, -2.7141416873088686, -0.9433333333333342], [-2.888990569050816, -2.888990569050816, -2.888990569050816, -1.1433333333333344], [-2.745342855596523, -2.745342855596523, -2.745342855596523, -1.243333333333335], [-2.728716536565372, -2.728716536565372, -2.728716536565372, -0.8433333333333346], [-2.280859632895876, -2.280859632895876, -2.280859632895876, -0.44333333333333425], [-2.820537750713106, -2.820537750713106, -2.820537750713106, -1.243333333333335], [-2.626144973151188, -2.626144973151188, -2.626144973151188, -0.8433333333333346], [-2.88638273172488, -2.88638273172488, -2.88638273172488, -1.4433333333333342], [-2.672755797805875, -2.672755797805875, -2.672755797805875, -0.9433333333333342], [-2.5069470907058538, -2.5069470907058538, -2.5069470907058538, -0.44333333333333425], [-2.612755230871563, -2.612755230871563, -2.612755230871563, -1.0433333333333348], [-2.7861092661737485, -2.7861092661737485, -2.7861092661737485, -1.0433333333333348], [-3.2238037438153224, -3.2238037438153224, -3.2238037438153224, -1.5433333333333348], [-2.644750390082686, -2.644750390082686, -2.644750390082686, -0.04333333333333478], [-2.386039033635996, -2.386039033635996, -2.386039033635996, -0.14333333333333442], [-2.623527875325431, -2.623527875325431, -2.623527875325431, -0.44333333333333425], [-2.6482967062970952, -2.6482967062970952, -2.6482967062970952, -0.743333333333335], [-2.199820323701831, -2.199820323701831, -2.199820323701831, -0.14333333333333442], [-2.587986399899899, -2.587986399899899, -2.587986399899899, -0.743333333333335], [-2.3102562152808837, -2.3102562152808837, -2.3102562152808837, -0.44333333333333425], [-2.543705228795504, -2.543705228795504, -2.543705228795504, -0.743333333333335], [-3.2159394156504537, -3.2159394156504537, -3.2159394156504537, -1.243333333333335], [-2.302733182266138, -2.302733182266138, -2.302733182266138, -0.743333333333335], [-2.3557540490493976, -2.3557540490493976, -2.3557540490493976, -1.0433333333333348], [-2.5066689069302095, -2.5066689069302095, -2.5066689069302095, -0.8433333333333346], [-2.468820073141804, -2.468820073141804, -2.468820073141804, -0.8433333333333346], [-2.5623199062268225, -2.5623199062268225, -2.5623199062268225, -0.6433333333333344], [-2.6395347154308135, -2.6395347154308135, -2.6395347154308135, -0.6433333333333344], [-2.63198938722865, -2.63198938722865, -2.63198938722865, -1.1433333333333344], [-2.5873984766613707, -2.5873984766613707, -2.5873984766613707, -1.0433333333333348], [-2.4099324970936657, -2.4099324970936657, -2.4099324970936657, -0.44333333333333425], [-2.6488623343482054, -2.6488623343482054, -2.6488623343482054, -0.6433333333333344], [-2.5987367491663487, -2.5987367491663487, -2.5987367491663487, -0.3433333333333346], [-2.6369268781048776, -2.6369268781048776, -2.6369268781048776, -0.9433333333333342], [-2.8662416521665595, -2.8662416521665595, -2.8662416521665595, -0.8433333333333346], [-2.625238049949955, -2.625238049949955, -2.625238049949955, -0.3433333333333346], [-2.8006841154302515, -2.8006841154302515, -2.8006841154302515, -0.9433333333333342], [-2.980502043735666, -2.980502043735666, -2.980502043735666, -1.4433333333333342], [-2.5900063139873066, -2.5900063139873066, -2.5900063139873066, -0.743333333333335], [-2.7701024260683655, -2.7701024260683655, -2.7701024260683655, -0.8433333333333346], [-2.8493687050470036, -2.8493687050470036, -2.8493687050470036, -1.3433333333333346], [-2.9974065465424613, -2.9974065465424613, -2.9974065465424613, -1.4433333333333342], [-2.4056144851432064, -2.4056144851432064, -2.4056144851432064, -0.8433333333333346], [-2.209489237769347, -2.209489237769347, -2.209489237769347, -0.743333333333335], [-2.7144514267717526, -2.7144514267717526, -2.7144514267717526, -1.0433333333333348], [-2.538148258993508, -2.538148258993508, -2.538148258993508, -0.743333333333335], [-2.839462167607309, -2.839462167607309, -2.839462167607309, -1.243333333333335], [-2.5430857498697357, -2.5430857498697357, -2.5430857498697357, -0.5433333333333348], [-2.7033597823551796, -2.7033597823551796, -2.7033597823551796, -0.8433333333333346], [1.2848256887816523, 1.2848256887816523, 1.2848256887816523, 1.1566666666666654], [0.9324885322845823, 0.9324885322845823, 0.9324885322845823, 0.5566666666666658], [1.4643023219369435, 1.4643023219369435, 1.4643023219369435, 1.0566666666666658], [0.18331772000128554, 0.18331772000128554, 0.18331772000128554, -0.3433333333333346], [1.0881032576694425, 1.0881032576694425, 1.0881032576694425, 0.6566666666666654], [0.6416690843490047, 0.6416690843490047, 0.6416690843490047, -0.14333333333333442], [1.095060662633078, 1.095060662633078, 1.095060662633078, 0.4566666666666652], [-0.7491226697401165, -0.7491226697401165, -0.7491226697401165, -0.9433333333333342], [1.0441318260279309, 1.0441318260279309, 1.0441318260279309, 0.756666666666665], [-0.008745404010340865, -0.008745404010340865, -0.008745404010340865, -0.6433333333333344], [-0.5078408837478672, -0.5078408837478672, -0.5078408837478672, -0.8433333333333346], [0.5116985574498029, 0.5116985574498029, 0.5116985574498029, 0.056666666666665755], [0.2649765081210984, 0.2649765081210984, 0.2649765081210984, 0.1566666666666654], [0.9849345105169091, 0.9849345105169091, 0.9849345105169091, 0.25666666666666504], [-0.17392537168477268, -0.17392537168477268, -0.17392537168477268, -0.24333333333333496], [0.9278607808712388, 0.9278607808712388, 0.9278607808712388, 0.8566666666666656], [0.6602837617803231, 0.6602837617803231, 0.6602837617803231, -0.24333333333333496], [0.23610499338373542, 0.23610499338373542, 0.23610499338373542, -0.04333333333333478], [0.9447337279907944, 0.9447337279907944, 0.9447337279907944, 0.3566666666666656], [0.04522697634898771, 0.04522697634898771, 0.04522697634898771, -0.24333333333333496], [1.1162831773903328, 1.1162831773903328, 1.1162831773903328, 0.056666666666665755], [0.35788841796758813, 0.35788841796758813, 0.35788841796758813, 0.25666666666666504], [1.298183875374038, 1.298183875374038, 1.298183875374038, 0.4566666666666652], [0.9217289225183111, 0.9217289225183111, 0.9217289225183111, 0.25666666666666504], [0.714853325878002, 0.714853325878002, 0.714853325878002, 0.5566666666666658], [0.9001743731107544, 0.9001743731107544, 0.9001743731107544, 0.756666666666665], [1.3320244366748673, 1.3320244366748673, 1.3320244366748673, 0.9566666666666652], [1.5578021550219614, 1.5578021550219614, 1.5578021550219614, 0.8566666666666656], [0.8132906498392478, 0.8132906498392478, 0.8132906498392478, 0.1566666666666654], [-0.3055837780210803, -0.3055837780210803, -0.3055837780210803, -0.14333333333333442], [-0.06812649201888506, -0.06812649201888506, -0.06812649201888506, -0.3433333333333346], [-0.18962247232727125, -0.18962247232727125, -0.18962247232727125, -0.3433333333333346], [0.13642871157095393, 0.13642871157095393, 0.13642871157095393, -0.04333333333333478], [1.3800264359913723, 1.3800264359913723, 1.3800264359913723, 0.1566666666666654], [0.5880064434525599, 0.5880064434525599, 0.5880064434525599, -0.44333333333333425], [0.8068583125232578, 0.8068583125232578, 0.8068583125232578, 0.1566666666666654], [1.2206908823944025, 1.2206908823944025, 1.2206908823944025, 0.8566666666666656], [0.8150952357418945, 0.8150952357418945, 0.8150952357418945, 0.4566666666666652], [0.24595767994877263, 0.24595767994877263, 0.24595767994877263, -0.24333333333333496], [0.1664132171944904, 0.1664132171944904, 0.1664132171944904, -0.3433333333333346], [0.46480028851964994, 0.46480028851964994, 0.46480028851964994, -0.3433333333333346], [0.8908151985061222, 0.8908151985061222, 0.8908151985061222, 0.25666666666666504], [0.2305480235817402, 0.2305480235817402, 0.2305480235817402, -0.04333333333333478], [-0.7045317591728373, -0.7045317591728373, -0.7045317591728373, -0.8433333333333346], [0.3569814947663544, 0.3569814947663544, 0.3569814947663544, -0.24333333333333496], [0.33193448001904585, 0.33193448001904585, 0.33193448001904585, -0.14333333333333442], [0.37621565112344124, 0.37621565112344124, 0.37621565112344124, -0.14333333333333442], [0.6425760075502384, 0.6425760075502384, 0.6425760075502384, 0.3566666666666656], [-0.9064698649369187, -0.9064698649369187, -0.9064698649369187, -0.743333333333335], [0.2990008419194497, 0.2990008419194497, 0.2990008419194497, -0.14333333333333442], [2.5311927278381106, 2.5311927278381106, 2.5311927278381106, 0.4566666666666652], [1.415235876766602, 1.415235876766602, 1.415235876766602, -0.04333333333333478], [2.6166760159479776, 2.6166760159479776, 2.6166760159479776, 1.256666666666665], [1.9715310531151613, 1.9715310531151613, 1.9715310531151613, 0.4566666666666652], [2.350005920058296, 2.350005920058296, 2.350005920058296, 0.6566666666666654], [3.3970387360191063, 3.3970387360191063, 3.3970387360191063, 1.756666666666665], [0.5212322440521344, 0.5212322440521344, 0.5212322440521344, -0.9433333333333342], [2.932587069005699, 2.932587069005699, 2.932587069005699, 1.4566666666666652], [2.321228816599056, 2.321228816599056, 2.321228816599056, 0.8566666666666656], [2.916750966710242, 2.916750966710242, 2.916750966710242, 1.3566666666666656], [1.6617741535977846, 1.6617741535977846, 1.6617741535977846, 0.6566666666666654], [1.8034019529646703, 1.8034019529646703, 1.8034019529646703, 0.5566666666666658], [2.165591796026778, 2.165591796026778, 2.165591796026778, 0.9566666666666652], [1.3461635795031253, 1.3461635795031253, 1.3461635795031253, -0.14333333333333442], [1.5859282238681935, 1.5859282238681935, 1.5859282238681935, -0.04333333333333478], [1.9044563747516738, 1.9044563747516738, 1.9044563747516738, 0.5566666666666658], [1.949689059432139, 1.949689059432139, 1.949689059432139, 0.6566666666666654], [3.4870553642641946, 3.4870553642641946, 3.4870553642641946, 1.8566666666666656], [3.7956454220207405, 3.7956454220207405, 3.7956454220207405, 1.8566666666666656], [1.300791712699974, 1.300791712699974, 1.300791712699974, 0.1566666666666654], [2.4278179130006374, 2.4278179130006374, 2.4278179130006374, 1.0566666666666658], [1.199001105521662, 1.199001105521662, 1.199001105521662, -0.24333333333333496], [3.499920038896174, 3.499920038896174, 3.499920038896174, 1.8566666666666656], [1.3887661316702364, 1.3887661316702364, 1.3887661316702364, 0.4566666666666652], [2.2754305038674807, 2.2754305038674807, 2.2754305038674807, 0.8566666666666656], [2.6140904738094592, 2.6140904738094592, 2.6140904738094592, 1.3566666666666656], [1.258508160495568, 1.258508160495568, 1.258508160495568, 0.3566666666666656], [1.2911320591322801, 1.2911320591322801, 1.2911320591322801, 0.25666666666666504], [2.123608722785434, 2.123608722785434, 2.123608722785434, 0.5566666666666658], [2.3880030159994816, 2.3880030159994816, 2.3880030159994816, 1.3566666666666656], [2.8416727780591993, 2.8416727780591993, 2.8416727780591993, 1.5566666666666658], [3.2306736613677964, 3.2306736613677964, 3.2306736613677964, 2.0566666666666658], [2.159437642486432, 2.159437642486432, 2.159437642486432, 0.5566666666666658], [1.444161242378622, 1.444161242378622, 1.444161242378622, 0.4566666666666652], [1.7812948101935993, 1.7812948101935993, 1.7812948101935993, 0.25666666666666504], [3.0764999315480406, 3.0764999315480406, 3.0764999315480406, 1.8566666666666656], [2.1442433143041604, 2.1442433143041604, 2.1442433143041604, 0.4566666666666652], [1.9050981488648597, 1.9050981488648597, 1.9050981488648597, 0.5566666666666658], [1.1693263393610094, 1.1693263393610094, 1.1693263393610094, 0.1566666666666654], [2.1076111431798736, 2.1076111431798736, 2.1076111431798736, 1.0566666666666658], [2.31415470516988, 2.31415470516988, 2.31415470516988, 0.8566666666666656], [1.9222678007597027, 1.9222678007597027, 1.9222678007597027, 1.0566666666666658], [1.415235876766602, 1.415235876766602, 1.415235876766602, -0.04333333333333478], [2.5630133750515327, 2.5630133750515327, 2.5630133750515327, 0.9566666666666652], [2.418746182671472, 2.418746182671472, 2.418746182671472, 0.8566666666666656], [1.9441097944427257, 1.9441097944427257, 1.9441097944427257, 0.8566666666666656], [1.5271666147854175, 1.5271666147854175, 1.5271666147854175, 0.4566666666666652], [1.7643457170119687, 1.7643457170119687, 1.7643457170119687, 0.6566666666666654], [1.9009416142245041, 1.9009416142245041, 1.9009416142245041, 0.3566666666666656], [1.3901888620192935, 1.3901888620192935, 1.3901888620192935, 0.056666666666665755]]\n",
            "[[5.1, 3.5, 1.4, 0.2], [4.9, 3.0, 1.4, 0.2], [4.7, 3.2, 1.3, 0.2], [4.6, 3.1, 1.5, 0.2], [5.0, 3.6, 1.4, 0.2], [5.4, 3.9, 1.7, 0.4], [4.6, 3.4, 1.4, 0.3], [5.0, 3.4, 1.5, 0.2], [4.4, 2.9, 1.4, 0.2], [4.9, 3.1, 1.5, 0.1], [5.4, 3.7, 1.5, 0.2], [4.8, 3.4, 1.6, 0.2], [4.8, 3.0, 1.4, 0.1], [4.3, 3.0, 1.1, 0.1], [5.8, 4.0, 1.2, 0.2], [5.7, 4.4, 1.5, 0.4], [5.4, 3.9, 1.3, 0.4], [5.1, 3.5, 1.4, 0.3], [5.7, 3.8, 1.7, 0.3], [5.1, 3.8, 1.5, 0.3], [5.4, 3.4, 1.7, 0.2], [5.1, 3.7, 1.5, 0.4], [4.6, 3.6, 1.0, 0.2], [5.1, 3.3, 1.7, 0.5], [4.8, 3.4, 1.9, 0.2], [5.0, 3.0, 1.6, 0.2], [5.0, 3.4, 1.6, 0.4], [5.2, 3.5, 1.5, 0.2], [5.2, 3.4, 1.4, 0.2], [4.7, 3.2, 1.6, 0.2], [4.8, 3.1, 1.6, 0.2], [5.4, 3.4, 1.5, 0.4], [5.2, 4.1, 1.5, 0.1], [5.5, 4.2, 1.4, 0.2], [4.9, 3.1, 1.5, 0.2], [5.0, 3.2, 1.2, 0.2], [5.5, 3.5, 1.3, 0.2], [4.9, 3.6, 1.4, 0.1], [4.4, 3.0, 1.3, 0.2], [5.1, 3.4, 1.5, 0.2], [5.0, 3.5, 1.3, 0.3], [4.5, 2.3, 1.3, 0.3], [4.4, 3.2, 1.3, 0.2], [5.0, 3.5, 1.6, 0.6], [5.1, 3.8, 1.9, 0.4], [4.8, 3.0, 1.4, 0.3], [5.1, 3.8, 1.6, 0.2], [4.6, 3.2, 1.4, 0.2], [5.3, 3.7, 1.5, 0.2], [5.0, 3.3, 1.4, 0.2], [7.0, 3.2, 4.7, 1.4], [6.4, 3.2, 4.5, 1.5], [6.9, 3.1, 4.9, 1.5], [5.5, 2.3, 4.0, 1.3], [6.5, 2.8, 4.6, 1.5], [5.7, 2.8, 4.5, 1.3], [6.3, 3.3, 4.7, 1.6], [4.9, 2.4, 3.3, 1.0], [6.6, 2.9, 4.6, 1.3], [5.2, 2.7, 3.9, 1.4], [5.0, 2.0, 3.5, 1.0], [5.9, 3.0, 4.2, 1.5], [6.0, 2.2, 4.0, 1.0], [6.1, 2.9, 4.7, 1.4], [5.6, 2.9, 3.6, 1.3], [6.7, 3.1, 4.4, 1.4], [5.6, 3.0, 4.5, 1.5], [5.8, 2.7, 4.1, 1.0], [6.2, 2.2, 4.5, 1.5], [5.6, 2.5, 3.9, 1.1], [5.9, 3.2, 4.8, 1.8], [6.1, 2.8, 4.0, 1.3], [6.3, 2.5, 4.9, 1.5], [6.1, 2.8, 4.7, 1.2], [6.4, 2.9, 4.3, 1.3], [6.6, 3.0, 4.4, 1.4], [6.8, 2.8, 4.8, 1.4], [6.7, 3.0, 5.0, 1.7], [6.0, 2.9, 4.5, 1.5], [5.7, 2.6, 3.5, 1.0], [5.5, 2.4, 3.8, 1.1], [5.5, 2.4, 3.7, 1.0], [5.8, 2.7, 3.9, 1.2], [6.0, 2.7, 5.1, 1.6], [5.4, 3.0, 4.5, 1.5], [6.0, 3.4, 4.5, 1.6], [6.7, 3.1, 4.7, 1.5], [6.3, 2.3, 4.4, 1.3], [5.6, 3.0, 4.1, 1.3], [5.5, 2.5, 4.0, 1.3], [5.5, 2.6, 4.4, 1.2], [6.1, 3.0, 4.6, 1.4], [5.8, 2.6, 4.0, 1.2], [5.0, 2.3, 3.3, 1.0], [5.6, 2.7, 4.2, 1.3], [5.7, 3.0, 4.2, 1.2], [5.7, 2.9, 4.2, 1.3], [6.2, 2.9, 4.3, 1.3], [5.1, 2.5, 3.0, 1.1], [5.7, 2.8, 4.1, 1.3], [6.3, 3.3, 6.0, 2.5], [5.8, 2.7, 5.1, 1.9], [7.1, 3.0, 5.9, 2.1], [6.3, 2.9, 5.6, 1.8], [6.5, 3.0, 5.8, 2.2], [7.6, 3.0, 6.6, 2.1], [4.9, 2.5, 4.5, 1.7], [7.3, 2.9, 6.3, 1.8], [6.7, 2.5, 5.8, 1.8], [7.2, 3.6, 6.1, 2.5], [6.5, 3.2, 5.1, 2.0], [6.4, 2.7, 5.3, 1.9], [6.8, 3.0, 5.5, 2.1], [5.7, 2.5, 5.0, 2.0], [5.8, 2.8, 5.1, 2.4], [6.4, 3.2, 5.3, 2.3], [6.5, 3.0, 5.5, 1.8], [7.7, 3.8, 6.7, 2.2], [7.7, 2.6, 6.9, 2.3], [6.0, 2.2, 5.0, 1.5], [6.9, 3.2, 5.7, 2.3], [5.6, 2.8, 4.9, 2.0], [7.7, 2.8, 6.7, 2.0], [6.3, 2.7, 4.9, 1.8], [6.7, 3.3, 5.7, 2.1], [7.2, 3.2, 6.0, 1.8], [6.2, 2.8, 4.8, 1.8], [6.1, 3.0, 4.9, 1.8], [6.4, 2.8, 5.6, 2.1], [7.2, 3.0, 5.8, 1.6], [7.4, 2.8, 6.1, 1.9], [7.9, 3.8, 6.4, 2.0], [6.4, 2.8, 5.6, 2.2], [6.3, 2.8, 5.1, 1.5], [6.1, 2.6, 5.6, 1.4], [7.7, 3.0, 6.1, 2.3], [6.3, 3.4, 5.6, 2.4], [6.4, 3.1, 5.5, 1.8], [6.0, 3.0, 4.8, 1.8], [6.9, 3.1, 5.4, 2.1], [6.7, 3.1, 5.6, 2.4], [6.9, 3.1, 5.1, 2.3], [5.8, 2.7, 5.1, 1.9], [6.8, 3.2, 5.9, 2.3], [6.7, 3.3, 5.7, 2.5], [6.7, 3.0, 5.2, 2.3], [6.3, 2.5, 5.0, 1.9], [6.5, 3.0, 5.2, 2.0], [6.2, 3.4, 5.4, 2.3], [5.9, 3.0, 5.1, 1.8]]\n"
          ]
        },
        {
          "output_type": "execute_result",
          "data": {
            "text/plain": [
              "16.582269731833968"
            ]
          },
          "metadata": {},
          "execution_count": 18
        }
      ]
    },
    {
      "cell_type": "markdown",
      "source": [
        "4.1"
      ],
      "metadata": {
        "id": "MsGTBpxOkKkG"
      }
    },
    {
      "cell_type": "code",
      "source": [
        "def auto_select_k(eigenvalues, threshold=0.85):\n",
        "    \"\"\"\n",
        "    Вход:\n",
        "    eigenvalues: список собственных значений\n",
        "    threshold: порог объяснённой дисперсии\n",
        "    Выход: оптимальное число главных компонент k\n",
        "    \"\"\"\n",
        "    # Проверка входных данных\n",
        "\n",
        "\n",
        "    # Сумма всех собственных значений\n",
        "    total_variance = sum(eigenvalues)\n",
        "    # Накапливаем объяснённую дисперсию\n",
        "    explained_variance = 0.0\n",
        "    k = 0\n",
        "\n",
        "    for i, ev in enumerate(sorted(eigenvalues, reverse=True)):\n",
        "        explained_variance += ev / total_variance\n",
        "        if explained_variance >= threshold:\n",
        "            k = i + 1\n",
        "            break\n",
        "\n",
        "    return k\n",
        "X = [\n",
        "    [1, 3, 3],\n",
        "    [12, 5, 6],\n",
        "    [0.4, 8, 1],\n",
        "\n",
        "]\n",
        "eug = find_eigenvalues(X)\n",
        "auto_select_k(eug)"
      ],
      "metadata": {
        "id": "AZMMGMlFkM7G",
        "colab": {
          "base_uri": "https://localhost:8080/"
        },
        "outputId": "f3bd59a7-1f66-42d5-f63d-e0116021166f"
      },
      "execution_count": 19,
      "outputs": [
        {
          "output_type": "execute_result",
          "data": {
            "text/plain": [
              "1"
            ]
          },
          "metadata": {},
          "execution_count": 19
        }
      ]
    },
    {
      "cell_type": "markdown",
      "source": [
        "4.2"
      ],
      "metadata": {
        "id": "u9-P6zzZkN88"
      }
    },
    {
      "cell_type": "code",
      "source": [
        "def handle_missing_values(X: 'Matrix') -> 'Matrix':\n",
        "  \"\"\"\n",
        "  Вход: матрица данных X (n×m) с возможными NaN\n",
        "  Выход: матрица данных X_filled (n×m) без NaN\n",
        "  \"\"\"\n",
        "  if not X or not X[0]:\n",
        "      raise ValueError(\"Матрица данных не может быть пустой\")\n",
        "\n",
        "  n_rows = len(X)\n",
        "  n_cols = len(X[0])\n",
        "\n",
        "  # Проверка согласованности размеров\n",
        "  for row in X:\n",
        "      if len(row) != n_cols:\n",
        "          raise ValueError(\"Все строки матрицы должны иметь одинаковую длину\")\n",
        "\n",
        "  # Вычисляем средние по столбцам\n",
        "  column_means = []\n",
        "  for j in range(n_cols):\n",
        "      sum_val = 0.0\n",
        "      count = 0\n",
        "      for i in range(n_rows):\n",
        "          val = X[i][j]\n",
        "          if val is not None and not (isinstance(val, float) and val != val):  # Проверка на NaN\n",
        "              sum_val += val\n",
        "              count += 1\n",
        "\n",
        "      if count == 0:\n",
        "          raise ValueError(f\"Все значения в столбце {j} пропущены\")\n",
        "\n",
        "      column_means.append(sum_val / count)\n",
        "\n",
        "  # Заполняем пропущенные значения\n",
        "  X_filled = []\n",
        "  for i in range(n_rows):\n",
        "      filled_row = []\n",
        "      for j in range(n_cols):\n",
        "          val = X[i][j]\n",
        "          if val is None or (isinstance(val, float) and val != val):  # Проверка на None или NaN\n",
        "              filled_row.append(column_means[j])\n",
        "          else:\n",
        "              filled_row.append(val)\n",
        "      X_filled.append(filled_row)\n",
        "\n",
        "  return X_filled\n",
        "\n",
        "X_bad = [\n",
        "    [1, None, 3],\n",
        "    [None, None, 2],\n",
        "    [3, 2, 1]\n",
        "    ]\n",
        "\n",
        "handle_missing_values(X_bad)\n"
      ],
      "metadata": {
        "id": "4kqbEQSrkPZM",
        "colab": {
          "base_uri": "https://localhost:8080/"
        },
        "outputId": "e2ddf7a0-2f8d-4d61-bbc6-b0307cc3cfbf"
      },
      "execution_count": 20,
      "outputs": [
        {
          "output_type": "execute_result",
          "data": {
            "text/plain": [
              "[[1, 2.0, 3], [2.0, 2.0, 2], [3, 2, 1]]"
            ]
          },
          "metadata": {},
          "execution_count": 20
        }
      ]
    },
    {
      "cell_type": "markdown",
      "source": [
        "4.3"
      ],
      "metadata": {
        "id": "D5JcIYUJkPwt"
      }
    },
    {
      "cell_type": "code",
      "source": [
        "import random\n",
        "import math\n",
        "import random\n",
        "import math\n",
        "from typing import List, Dict, Any\n",
        "\n",
        "\n",
        "def add_noise_and_compare(X: List[List[float]], noise_level: float = 0.1) -> Dict[str, Any]:\n",
        "    \"\"\"\n",
        "    Сравнивает PCA до и после добавления шума\n",
        "\n",
        "    Параметры:\n",
        "        X: матрица данных (n×m)\n",
        "        noise_level: уровень шума (доля от стандартного отклонения)\n",
        "\n",
        "    Возвращает:\n",
        "        Словарь с результатами сравнения PCA\n",
        "    \"\"\"\n",
        "    # 1. Проверка и подготовка входных данных\n",
        "    if not X or not isinstance(X[0], list):\n",
        "        raise ValueError(\"Некорректный формат входных данных\")\n",
        "\n",
        "    n, m = len(X), len(X[0])\n",
        "\n",
        "    # 2. Вычисление статистик с обработкой None\n",
        "    valid_data = [[x for x in row if x is not None] for row in zip(*X)]\n",
        "    means = [sum(col)/len(col) if col else 0.0 for col in valid_data]\n",
        "    stds = [\n",
        "        math.sqrt(sum((x - mean)**2 for x in col)/len(col)) if col else 0.0\n",
        "        for col, mean in zip(valid_data, means)\n",
        "    ]\n",
        "\n",
        "    # 3. PCA для исходных данных\n",
        "    orig_proj, orig_recon, orig_var, means = pca(X, k=min(3, m))\n",
        "\n",
        "    # Получаем собственные значения из проекций\n",
        "    orig_eigvals = [sum(x**2 for x in col)/n for col in zip(*orig_proj)]\n",
        "\n",
        "    # 4. Генерация зашумленных данных\n",
        "    noisy_data = [\n",
        "        [\n",
        "            x + random.gauss(0, noise_level*stds[j]) if x is not None else means[j]\n",
        "            for j, x in enumerate(row)\n",
        "        ]\n",
        "        for row in X\n",
        "    ]\n",
        "\n",
        "    # 5. PCA для зашумленных данных\n",
        "    noisy_proj, noisy_recon, noisy_var, meanss = pca(noisy_data, k=min(3, m))\n",
        "    noisy_eigvals = [sum(x**2 for x in col)/n for col in zip(*noisy_proj)]\n",
        "\n",
        "    # 6. Сравнение результатов\n",
        "    min_len = min(len(orig_eigvals), len(noisy_eigvals))\n",
        "    eigval_diff = [\n",
        "        abs(orig - noisy)\n",
        "        for orig, noisy in zip(orig_eigvals[:min_len], noisy_eigvals[:min_len])\n",
        "    ]\n",
        "\n",
        "    # 7. Формирование результата\n",
        "    return {\n",
        "        'орига': {\n",
        "            'eigenvalues': orig_eigvals[:3],\n",
        "            'explained_variance': orig_var\n",
        "        },\n",
        "        'нойз мси': {\n",
        "            'eigenvalues': noisy_eigvals[:3],\n",
        "            'explained_variance': noisy_var\n",
        "        },\n",
        "        'разница': {\n",
        "            'eigenvalues_diff': eigval_diff,\n",
        "            'variance_loss': orig_var - noisy_var\n",
        "        }\n",
        "    }\n",
        "print(add_noise_and_compare(X))"
      ],
      "metadata": {
        "id": "DWafQNAmkQ8C",
        "colab": {
          "base_uri": "https://localhost:8080/"
        },
        "outputId": "c7837e78-cfad-451d-86a6-26bfdb46ece8"
      },
      "execution_count": 21,
      "outputs": [
        {
          "output_type": "stream",
          "name": "stdout",
          "text": [
            "{'орига': {'eigenvalues': [32.38888446356115, 4.491115536438845, 6.935067551548482e-20], 'explained_variance': 1.0}, 'нойз мси': {'eigenvalues': [34.31990364136219, 4.952095727378167, 6.565411386006718e-20], 'explained_variance': 1.0}, 'разница': {'eigenvalues_diff': [1.9310191778010406, 0.4609801909393223, 3.69656165541764e-21], 'variance_loss': 0.0}}\n"
          ]
        }
      ]
    },
    {
      "cell_type": "markdown",
      "source": [
        "4.4"
      ],
      "metadata": {
        "id": "S4mIghYzkSPl"
      }
    },
    {
      "cell_type": "code",
      "source": [
        "from sklearn.datasets import load_iris\n",
        "\n",
        "# Загрузка датасета Iris\n",
        "iris = load_iris()\n",
        "data = iris.data.tolist()  # Конвертируем numpy array в list of lists\n",
        "target = iris.target.tolist()\n",
        "\n",
        "print(\"Размерность данных:\", len(data), \"x\", len(data[0]))\n",
        "print(\"Первые 3 строки:\")\n",
        "for row in data[:3]:\n",
        "    print(row)"
      ],
      "metadata": {
        "colab": {
          "base_uri": "https://localhost:8080/"
        },
        "id": "fCGThiRMBzvt",
        "outputId": "47e79e4c-93d5-4aca-9caa-c9c2612fc031"
      },
      "execution_count": 22,
      "outputs": [
        {
          "output_type": "stream",
          "name": "stdout",
          "text": [
            "Размерность данных: 150 x 4\n",
            "Первые 3 строки:\n",
            "[5.1, 3.5, 1.4, 0.2]\n",
            "[4.9, 3.0, 1.4, 0.2]\n",
            "[4.7, 3.2, 1.3, 0.2]\n"
          ]
        }
      ]
    },
    {
      "cell_type": "code",
      "source": [
        "from typing import List, Tuple\n",
        "from sklearn.datasets import load_iris\n",
        "import random\n",
        "import math\n",
        "\n",
        "\n",
        "\n",
        "def reconstruct(X_pca: List[List[float]], components: List[List[float]], means: List[float]) -> List[List[float]]:\n",
        "    \"\"\"Корректное восстановление данных\"\"\"\n",
        "    n_samples = len(X_pca)\n",
        "    n_features = len(means)\n",
        "    k = len(components)\n",
        "\n",
        "    reconstructed = []\n",
        "    for i in range(n_samples):\n",
        "        row = [0.0]*n_features\n",
        "        for j in range(n_features):\n",
        "            row[j] = means[j]\n",
        "            for comp_idx in range(k):\n",
        "                row[j] += X_pca[i][comp_idx] * components[comp_idx][j]\n",
        "        reconstructed.append(row)\n",
        "    return reconstructed\n",
        "\n",
        "def mse(original: List[List[float]], reconstructed: List[List[float]]) -> float:\n",
        "    \"\"\"Вычисление MSE\"\"\"\n",
        "    total = 0.0\n",
        "    count = 0\n",
        "    for i in range(len(original)):\n",
        "        for j in range(len(original[0])):\n",
        "            total += (original[i][j] - reconstructed[i][j])**2\n",
        "            count += 1\n",
        "    return total / count\n",
        "\n",
        "def total_variance(data: List[List[float]]) -> float:\n",
        "    \"\"\"Общая дисперсия данных\"\"\"\n",
        "    means = calculate_means(data)\n",
        "    centered = [[x - mean for x, mean in zip(row, means)] for row in data]\n",
        "    return sum(x**2 for row in centered for x in row)/(len(data)-1)\n",
        "\n",
        "# Загрузка данных\n",
        "iris = load_iris()\n",
        "data = [list(map(float, row)) for row in iris.data]\n",
        "\n",
        "# Применение PCA\n",
        "k = 2\n",
        "X_pca, components, vrt, means = pca(data, k)\n",
        "\n",
        "# Восстановление данных\n",
        "X_reconstructed = reconstruct(X_pca, components, means)\n",
        "\n",
        "# Оценка качества\n",
        "reconstruction_mse = mse(data, X_reconstructed)\n",
        "total_var = total_variance(data)\n",
        "explained_variance = 1 - reconstruction_mse/total_var\n",
        "\n",
        "print(\"Первые 5 восстановленных образцов:\")\n",
        "for row in X_reconstructed[:5]:\n",
        "    print([round(x, 4) for x in row])\n",
        "\n",
        "print(f\"\\nMSE восстановления: {reconstruction_mse:.4f}\")\n",
        "print(f\"Общая дисперсия: {total_var:.4f}\")\n",
        "print(f\"Объясненная дисперсия: {explained_variance:.2%}\")"
      ],
      "metadata": {
        "colab": {
          "base_uri": "https://localhost:8080/"
        },
        "id": "i0snjr348842",
        "outputId": "8720b2ce-299c-4b7f-c440-78d0751fe3f7"
      },
      "execution_count": 23,
      "outputs": [
        {
          "output_type": "stream",
          "name": "stdout",
          "text": [
            "Первые 5 восстановленных образцов:\n",
            "[4.13, 3.2842, 1.4586, 0.2376]\n",
            "[3.9191, 3.2867, 1.4329, 0.2269]\n",
            "[3.656, 3.3015, 1.2831, 0.1642]\n",
            "[3.6079, 3.2894, 1.4061, 0.2157]\n",
            "[4.0139, 3.288, 1.4204, 0.2217]\n",
            "\n",
            "MSE восстановления: 0.1896\n",
            "Общая дисперсия: 4.5730\n",
            "Объясненная дисперсия: 95.85%\n"
          ]
        }
      ]
    },
    {
      "cell_type": "code",
      "source": [],
      "metadata": {
        "id": "AzgkGz1LCTJA"
      },
      "execution_count": 23,
      "outputs": []
    },
    {
      "cell_type": "code",
      "source": [
        "def test_sort_eigen():\n",
        "    # 1. Базовый тест\n",
        "    eigenvalues = [3.0, 1.0, 2.0]\n",
        "    eigenvectors = [\n",
        "        [1, 0],\n",
        "        [0, 1],\n",
        "        [1, 1]\n",
        "    ]\n",
        "    sorted_values, sorted_vectors = sort_eigen(eigenvalues, eigenvectors)\n",
        "    assert sorted_values == [3.0, 2.0, 1.0], f\"Expected sorted eigenvalues: [3.0, 2.0, 1.0], got {sorted_values}\"\n",
        "    assert sorted_vectors == [[1, 0], [1, 1], [0, 1]], f\"Expected sorted eigenvectors: [[1, 0], [1, 1], [0, 1]], got {sorted_vectors}\"\n",
        "\n",
        "    # 2. Тест с отрицательными значениями\n",
        "    eigenvalues = [-1.0, -2.0, 3.0]\n",
        "    eigenvectors = [\n",
        "        [1, 2],\n",
        "        [2, 1],\n",
        "        [0, 1]\n",
        "    ]\n",
        "    sorted_values, sorted_vectors = sort_eigen(eigenvalues, eigenvectors)\n",
        "    assert sorted_values == [3.0, -1.0, -2.0], f\"Expected sorted eigenvalues: [3.0, -1.0, -2.0], got {sorted_values}\"\n",
        "    assert sorted_vectors == [[0, 1], [1, 2], [2, 1]], f\"Expected sorted eigenvectors: [[0, 1], [1, 2], [2, 1]], got {sorted_vectors}\"\n",
        "\n",
        "    # 3. Тест с равными собственными значениями\n",
        "    eigenvalues = [1.0, 1.0, 1.0]\n",
        "    eigenvectors = [\n",
        "        [1, 2],\n",
        "        [2, 1],\n",
        "        [0, 1]\n",
        "    ]\n",
        "    sorted_values, sorted_vectors = sort_eigen(eigenvalues, eigenvectors)\n",
        "    assert sorted_values == [1.0, 1.0, 1.0], f\"Expected sorted eigenvalues: [1.0, 1.0, 1.0], got {sorted_values}\"\n",
        "    assert sorted_vectors == [[1, 2], [2, 1], [0, 1]], f\"Expected sorted eigenvectors: [[1, 2], [2, 1], [0, 1]], got {sorted_vectors}\"\n",
        "\n",
        "    # 4. Тест с различными размерами векторов\n",
        "    try:\n",
        "        eigenvalues = [3.0, 2.0]\n",
        "        eigenvectors = [\n",
        "            [1, 2],\n",
        "            [2]\n",
        "        ]\n",
        "        sort_eigen(eigenvalues, eigenvectors)\n",
        "        assert False, \"Expected ValueError due to different vector lengths\"\n",
        "    except ValueError as e:\n",
        "        assert str(e) == \"Все собственные векторы должны иметь одинаковую длину\", f\"Unexpected error message: {e}\"\n",
        "\n",
        "    # 5. Тест с несовпадающим количеством значений и векторов\n",
        "    try:\n",
        "        eigenvalues = [3.0, 2.0]\n",
        "        eigenvectors = [\n",
        "            [1, 2]\n",
        "        ]\n",
        "        sort_eigen(eigenvalues, eigenvectors)\n",
        "        assert False, \"Expected ValueError due to mismatched eigenvalues and eigenvectors count\"\n",
        "    except ValueError as e:\n",
        "        assert str(e) == \"Количество собственных значений должно совпадать с количеством векторов\", f\"Unexpected error message: {e}\"\n",
        "\n",
        "    print(\"Все тесты прошли успешно!\")\n",
        "\n",
        "# Запуск тестов\n",
        "test_sort_eigen()\n"
      ],
      "metadata": {
        "colab": {
          "base_uri": "https://localhost:8080/"
        },
        "id": "KXz_ncZv5TBn",
        "outputId": "50ff44b7-da4c-4af8-8716-3adf90e2eeec"
      },
      "execution_count": 24,
      "outputs": [
        {
          "output_type": "stream",
          "name": "stdout",
          "text": [
            "Все тесты прошли успешно!\n"
          ]
        }
      ]
    },
    {
      "cell_type": "code",
      "source": [
        "def test_center_data():\n",
        "    X = [\n",
        "        [1.0, 2.0],\n",
        "        [3.0, 4.0],\n",
        "        [5.0, 6.0]\n",
        "    ]\n",
        "    X_centered, means = center_data(X)\n",
        "\n",
        "    # Проверка средних значений\n",
        "    assert means == [3.0, 4.0]\n",
        "\n",
        "    # Проверка центрирования\n",
        "    expected_centered = [\n",
        "        [-2.0, -2.0],\n",
        "        [0.0, 0.0],\n",
        "        [2.0, 2.0]\n",
        "    ]\n",
        "    assert X_centered == expected_centered\n",
        "\n",
        "    # Проверка, что среднее после центрирования ~0\n",
        "    for col in zip(*X_centered):\n",
        "        assert abs(sum(col) / len(col)) < 1e-6\n",
        "\n",
        "test_center_data()\n",
        "print(\"center_data: OK\")"
      ],
      "metadata": {
        "colab": {
          "base_uri": "https://localhost:8080/"
        },
        "id": "KB6d04jiqjNH",
        "outputId": "db3d5329-a356-4dfe-db68-be06b9797ace"
      },
      "execution_count": 25,
      "outputs": [
        {
          "output_type": "stream",
          "name": "stdout",
          "text": [
            "center_data: OK\n"
          ]
        }
      ]
    },
    {
      "cell_type": "code",
      "source": [
        "def test_covariance_matrix():\n",
        "    X_centered = [\n",
        "        [-2.0, -2.0],\n",
        "        [0.0, 0.0],\n",
        "        [2.0, 2.0]\n",
        "    ]\n",
        "    cov_mat = covariance_matrix(X_centered)\n",
        "\n",
        "    # Правильная ковариационная матрица для этих данных\n",
        "    expected_cov = [\n",
        "        [4.0, 4.0],\n",
        "        [4.0, 4.0]\n",
        "    ]\n",
        "    for i in range(len(cov_mat)):\n",
        "        for j in range(len(cov_mat[0])):\n",
        "            assert abs(cov_mat[i][j] - expected_cov[i][j]) < 1e-6\n",
        "\n",
        "test_covariance_matrix()\n",
        "print(\"covariance_matrix: OK\")"
      ],
      "metadata": {
        "colab": {
          "base_uri": "https://localhost:8080/"
        },
        "id": "9z4DvPdmqj6b",
        "outputId": "83b1238c-c6d5-43bd-a7df-365bbfe56ba8"
      },
      "execution_count": 26,
      "outputs": [
        {
          "output_type": "stream",
          "name": "stdout",
          "text": [
            "covariance_matrix: OK\n"
          ]
        }
      ]
    },
    {
      "cell_type": "code",
      "source": [
        "def test_find_eigenvalues():\n",
        "    cov_mat = [\n",
        "        [4.0, 4.0],\n",
        "        [4.0, 4.0]\n",
        "    ]\n",
        "    eigenvalues = find_eigenvalues(cov_mat)\n",
        "\n",
        "    # Ожидаемые собственные значения (для матрицы [[4,4],[4,4]])\n",
        "    assert abs(eigenvalues[0] - 8.0) < 1e-6\n",
        "    assert abs(eigenvalues[1] - 0.0) < 1e-6\n",
        "\n",
        "test_find_eigenvalues()\n",
        "print(\"find_eigenvalues: OK\")"
      ],
      "metadata": {
        "colab": {
          "base_uri": "https://localhost:8080/"
        },
        "id": "lBU9X6hwql_O",
        "outputId": "7b063417-e2e6-46a0-ed2e-2181e7c2425d"
      },
      "execution_count": 27,
      "outputs": [
        {
          "output_type": "stream",
          "name": "stdout",
          "text": [
            "find_eigenvalues: OK\n"
          ]
        }
      ]
    },
    {
      "cell_type": "code",
      "source": [
        "def test_find_eigenvectors():\n",
        "    cov_mat = [\n",
        "        [4.0, 4.0],\n",
        "        [4.0, 4.0]\n",
        "    ]\n",
        "    eigenvalues = [8.0, 0.0]\n",
        "    eigenvectors = find_eigenvectors(cov_mat, eigenvalues)\n",
        "\n",
        "    # Ожидаемые собственные векторы (нормированные)\n",
        "    expected_vectors = [\n",
        "        [0.70710678, 0.70710678],  # Для λ=8\n",
        "        [-0.70710678, 0.70710678]   # Для λ=0\n",
        "    ]\n",
        "\n",
        "    for i in range(len(eigenvectors)):\n",
        "        for j in range(len(eigenvectors[0])):\n",
        "            assert abs(eigenvectors[i][j] - expected_vectors[i][j]) < 1e-6\n",
        "\n",
        "test_find_eigenvectors()\n",
        "print(\"find_eigenvectors: OK\")"
      ],
      "metadata": {
        "colab": {
          "base_uri": "https://localhost:8080/"
        },
        "id": "fcf9uLQkqqg6",
        "outputId": "4aeab504-8863-4064-93d2-d0ee39cbc251"
      },
      "execution_count": 28,
      "outputs": [
        {
          "output_type": "stream",
          "name": "stdout",
          "text": [
            "find_eigenvectors: OK\n"
          ]
        }
      ]
    },
    {
      "cell_type": "code",
      "source": [],
      "metadata": {
        "id": "B2jJNKVoqwGe"
      },
      "execution_count": 28,
      "outputs": []
    }
  ]
}