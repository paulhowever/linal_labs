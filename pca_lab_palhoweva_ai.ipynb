{
  "nbformat": 4,
  "nbformat_minor": 0,
  "metadata": {
    "colab": {
      "provenance": []
    },
    "kernelspec": {
      "name": "python3",
      "display_name": "Python 3"
    },
    "language_info": {
      "name": "python"
    }
  },
  "cells": [
    {
      "cell_type": "code",
      "source": [
        "X = [\n",
        "    [1, 3, 3],\n",
        "    [12, 5, 6],\n",
        "    [0.4, 8, 1],\n",
        "\n",
        "]"
      ],
      "metadata": {
        "id": "_XYT8bEeMIRJ"
      },
      "execution_count": 1,
      "outputs": []
    },
    {
      "cell_type": "code",
      "source": [
        "class Matrix:\n",
        "    def __init__(self, matrix):\n",
        "      \"\"\"\n",
        "      Инициализирует разреженную матрицу.\n",
        "\n",
        "      :param matrix: Матрица списком.\n",
        "      \"\"\"\n",
        "      self.rows = len(matrix)\n",
        "      self.cols = len(matrix[0])\n",
        "\n",
        "      self.values = []\n",
        "      self.col_index = []\n",
        "      self.row_pointers = [0]\n",
        "\n",
        "      for i in range(len(matrix)):\n",
        "        for j in range(len(matrix[i])):\n",
        "          if matrix[i][j] != 0:\n",
        "            self.values.append(matrix[i][j])\n",
        "            self.col_index.append(j)\n",
        "        self.row_pointers.append(len(self.values))\n",
        "\n",
        "    def trace(self):\n",
        "      \"\"\"\n",
        "      Вычисляет след матрицы (cумма элементов главной диагонали).\n",
        "\n",
        "      :return: след матрицы.\n",
        "      \"\"\"\n",
        "      trace = 0\n",
        "\n",
        "      for row_index in range(len(self.row_pointers) - 1):\n",
        "        start = self.row_pointers[row_index]\n",
        "        end = self.row_pointers[row_index + 1]\n",
        "\n",
        "        for i in range(start, end):\n",
        "          if self.col_index[i] == row_index:\n",
        "            trace += self.values[i]\n",
        "\n",
        "      return trace\n",
        "\n",
        "    def get_element(self, row, col):\n",
        "      \"\"\"\n",
        "      Находит элемент матрицы по списку\n",
        "\n",
        "      :param row: Индекс строки\n",
        "      :param col: Индекс столбца\n",
        "\n",
        "      :return: Значение элемента.\n",
        "      \"\"\"\n",
        "      if row < 1 or col < 1 or row > self.rows or col > self.cols:\n",
        "        raise IndexError(\"Индекс(-ы) выходят за пределы матрицы\")\n",
        "\n",
        "      row -= 1\n",
        "      col -= 1\n",
        "\n",
        "      start = self.row_pointers[row]\n",
        "      end = self.row_pointers[row + 1]\n",
        "\n",
        "      for i in range(start, end):\n",
        "        if self.col_index[i] == col:\n",
        "          return self.values[i]\n",
        "\n",
        "      return 0\n",
        "\n",
        "    def return_full_matrix(self):\n",
        "      \"\"\"\n",
        "      Возвращает плотную матрицу в виде списка.\n",
        "\n",
        "      :return: Матрица в виде списка.\n",
        "      \"\"\"\n",
        "      print_matrix = [[0 for _ in range(self.cols)] for _ in range(self.rows)]\n",
        "\n",
        "      for row_index in range(len(self.row_pointers) - 1):\n",
        "        start = self.row_pointers[row_index]\n",
        "        end = self.row_pointers[row_index + 1]\n",
        "\n",
        "        for i in range(start, end):\n",
        "          col = self.col_index[i]\n",
        "          print_matrix[row_index][col] = self.values[i]\n",
        "\n",
        "      return print_matrix\n",
        "\n",
        "    def return_csr_matrix(self):\n",
        "      \"\"\"\n",
        "      Возвращает матрицу разреженно-строчном виде.\n",
        "\n",
        "      :return: Матрица в разреженно-строчном виде.\n",
        "      \"\"\"\n",
        "      return self.values, self.col_index, self.row_pointers\n",
        "\n",
        "    def determinant(self) -> float:\n",
        "      \"\"\"\n",
        "      Вычисляет определитель матрицы (рекурсивно по минорам).\n",
        "      \"\"\"\n",
        "      if self.rows != self.cols:\n",
        "        raise ValueError(\"Невозможно найти определитель для неквадратной матрицы\")\n",
        "\n",
        "      if self.rows == 1:\n",
        "        return self.values[0] if self.values else 0.0\n",
        "      if self.rows == 2:\n",
        "        a = self.get_element(1, 1)\n",
        "        b = self.get_element(1, 2)\n",
        "        c = self.get_element(2, 1)\n",
        "        d = self.get_element(2, 2)\n",
        "        return a * d - b * c\n",
        "\n",
        "      det = 0.0\n",
        "      full = self.return_full_matrix()\n",
        "      start, end = self.row_pointers[0], self.row_pointers[1]\n",
        "\n",
        "      for idx in range(start, end):\n",
        "        col = self.col_index[idx]\n",
        "        val = self.values[idx]\n",
        "\n",
        "        minor_dense = []\n",
        "        for row in full[1:]:\n",
        "          minor_dense.append([row[j] for j in range(self.cols) if j != col])\n",
        "\n",
        "        minor = self.__class__(minor_dense)\n",
        "\n",
        "        sign = -1 if (col % 2) else 1\n",
        "\n",
        "        det += val * sign * minor.determinant()\n",
        "\n",
        "      return det\n",
        "\n",
        "    def multiply(self, other: 'Matrix') -> 'Matrix':\n",
        "      \"\"\"\n",
        "      A(i×p) · B(p×m) → C(i×m) в CSR формате, чистый проход по строкам A и\n",
        "      соответствующим строкам B (CSR у B позволяет быстро брать строки).\n",
        "      \"\"\"\n",
        "      if self.cols != other.rows:\n",
        "          raise ValueError(\"Число столбцов A != числу строк B\")\n",
        "\n",
        "      result = Matrix.__new__(Matrix)\n",
        "      result.rows, result.cols = self.rows, other.cols\n",
        "      result.values, result.col_index, result.row_pointers = [], [], [0]\n",
        "\n",
        "      for i in range(self.rows):\n",
        "          row_acc = {}\n",
        "          # проходим по ненулевым в A[i,*]\n",
        "          for idx1 in range(self.row_pointers[i], self.row_pointers[i+1]):\n",
        "              j  = self.col_index[idx1]   # кол-во столбцов A == кол-во строк B\n",
        "              v1 = self.values[idx1]\n",
        "              # обходим строку j матрицы B\n",
        "              for idx2 in range(other.row_pointers[j], other.row_pointers[j+1]):\n",
        "                  k  = other.col_index[idx2]\n",
        "                  v2 = other.values[idx2]\n",
        "                  row_acc[k] = row_acc.get(k, 0.0) + v1 * v2\n",
        "          # заполняем результат i‑й строкой\n",
        "          for col in sorted(row_acc):\n",
        "              result.col_index.append(col)\n",
        "              result.values.append(row_acc[col])\n",
        "          result.row_pointers.append(len(result.values))\n",
        "\n",
        "      return result\n",
        "\n",
        "    def T(self) -> 'Matrix':\n",
        "      \"\"\"\n",
        "      Возвращает транспонированную матрицу\n",
        "      \"\"\"\n",
        "      values, col_index, row_ptrs = [], [], [0]\n",
        "\n",
        "      for col in range(self.cols):\n",
        "          for row in range(self.rows):\n",
        "              val = self.get_element(row + 1, col + 1)\n",
        "              if val != 0:\n",
        "                  values.append(val)\n",
        "                  col_index.append(row)\n",
        "          row_ptrs.append(len(values))\n",
        "\n",
        "      trans = Matrix.__new__(Matrix)\n",
        "      trans.rows, trans.cols = self.cols, self.rows\n",
        "      trans.values, trans.col_index, trans.row_pointers = (values, col_index, row_ptrs)\n",
        "      return trans\n",
        "\n",
        "    def minus_lambda_I(self, lam: float) -> 'Matrix':\n",
        "      \"\"\"Возвращает матрицу (A − λI).\"\"\"\n",
        "      full = self.return_full_matrix()\n",
        "      for i in range(self.rows):\n",
        "          full[i][i] -= lam\n",
        "      return Matrix(full)\n"
      ],
      "metadata": {
        "id": "CATmYrX98xrp"
      },
      "execution_count": 2,
      "outputs": []
    },
    {
      "cell_type": "code",
      "source": [
        "def calculate_means(data):\n",
        "    \"\"\"Вычисление средних значений для каждого признака\"\"\"\n",
        "    return [sum(col)/len(col) for col in zip(*data)]\n",
        "\n",
        "def dot_product(v1, v2) -> float:\n",
        "    return sum(x*y for x, y in zip(v1, v2))\n",
        "\n",
        "def transpose(matrix):\n",
        "    return [list(row) for row in zip(*matrix)]\n",
        "\n"
      ],
      "metadata": {
        "id": "yIBaiV_kd5LJ"
      },
      "execution_count": 3,
      "outputs": []
    },
    {
      "cell_type": "code",
      "source": [
        "import typing\n",
        "from typing import List, Tuple"
      ],
      "metadata": {
        "id": "LNdp19OtvDPd"
      },
      "execution_count": 4,
      "outputs": []
    },
    {
      "cell_type": "markdown",
      "source": [
        "1.1\n"
      ],
      "metadata": {
        "id": "UpmepzcFj0oq"
      }
    },
    {
      "cell_type": "markdown",
      "source": [
        "гаус\n"
      ],
      "metadata": {
        "id": "I_h82UZAfF0V"
      }
    },
    {
      "cell_type": "code",
      "source": [
        "from typing import List\n",
        "\n",
        "def gauss_solver(A: List[List[float]], b: List[float]) -> List[List[float]]:\n",
        "    \"\"\"\n",
        "    Вход:\n",
        "    A: матрица коэффициентов (n×n). Используется класс Matrix из предыдущей\n",
        "    лабораторной работы,→\n",
        "    b: вектор правых частей (n×1)\n",
        "    Выход:\n",
        "    list[Matrix]: список базисных векторов решения системы\n",
        "    Raises:\n",
        "    ValueError: если система несовместна\n",
        "    \"\"\"\n",
        "    eps = 1e-12\n",
        "    n = len(A)\n",
        "\n",
        "    # расширенная м-ца\n",
        "    augmented = [row[:] + [b[i]] for i, row in enumerate(A)]\n",
        "\n",
        "    pivot_cols = []\n",
        "    current_row = 0\n",
        "\n",
        "    # гаусом проходим\n",
        "    for col in range(n):\n",
        "        # находим макс знач\n",
        "        pivot_row = None\n",
        "        max_val = 0.0\n",
        "        for row in range(current_row, n):\n",
        "            if abs(augmented[row][col]) > max_val:\n",
        "                max_val = abs(augmented[row][col])\n",
        "                pivot_row = row\n",
        "\n",
        "        # скип если маленькое число\n",
        "        if pivot_row is None or max_val < eps:\n",
        "            continue\n",
        "\n",
        "        # свапаем если хотим\n",
        "        if pivot_row != current_row:\n",
        "            augmented[current_row], augmented[pivot_row] = augmented[pivot_row], augmented[current_row]\n",
        "\n",
        "        # нормисуем\n",
        "        pivot = augmented[current_row][col]\n",
        "        for j in range(col, n + 1):\n",
        "            augmented[current_row][j] /= pivot\n",
        "\n",
        "        # удаляем из других строк\n",
        "        for row in range(n):\n",
        "            if row != current_row:\n",
        "                factor = augmented[row][col]\n",
        "                if abs(factor) > eps:\n",
        "                    for j in range(col, n + 1):\n",
        "                        augmented[row][j] -= factor * augmented[current_row][j]\n",
        "\n",
        "        pivot_cols.append(col)\n",
        "        current_row += 1\n",
        "        if current_row == n:\n",
        "            break\n",
        "\n",
        "    # совместна или не\n",
        "    for row in range(current_row, n):\n",
        "        if abs(augmented[row][n]) > eps:\n",
        "            raise ValueError(\"Система несовместна\")\n",
        "\n",
        "    # свободные переменные\n",
        "    free_cols = [col for col in range(n) if col not in pivot_cols]\n",
        "\n",
        "    # частное решение\n",
        "    xp = [0.0] * n\n",
        "    for i, col in enumerate(pivot_cols):\n",
        "        xp[col] = augmented[i][n]\n",
        "\n",
        "    # базис (A*x = 0)\n",
        "    null_basis = []\n",
        "    for free in free_cols:\n",
        "        vec = [0.0] * n\n",
        "        vec[free] = 1.0\n",
        "\n",
        "        # находим значения завис перм\n",
        "        for i, pivot in enumerate(pivot_cols):\n",
        "            vec[pivot] = -augmented[i][free]\n",
        "\n",
        "        null_basis.append(vec)\n",
        "\n",
        "    return [xp] + null_basis, free_cols\n",
        "\n",
        "\n",
        "#   2x + y = 5\n",
        "#   x - y = 1\n",
        "A1 = [\n",
        "    [2, 1],\n",
        "    [1, -1]\n",
        "]\n",
        "b1 = [5, 1]\n",
        "sol1 = gauss_solver(A1, b1)\n",
        "print(\"пупипам\")\n",
        "for sol in sol1:\n",
        "    print(sol)\n"
      ],
      "metadata": {
        "colab": {
          "base_uri": "https://localhost:8080/"
        },
        "id": "Nc5RzsODeBB-",
        "outputId": "7d95a038-34c7-4f76-f0a1-aa75e80dde4d"
      },
      "execution_count": 5,
      "outputs": [
        {
          "output_type": "stream",
          "name": "stdout",
          "text": [
            "пупипам\n",
            "[[2.0, 1.0]]\n",
            "[]\n"
          ]
        }
      ]
    },
    {
      "cell_type": "markdown",
      "source": [
        "1.2\n"
      ],
      "metadata": {
        "id": "FgXt7x5Hj1k0"
      }
    },
    {
      "cell_type": "code",
      "source": [
        "import math\n",
        "from typing import List, Tuple\n",
        "\n",
        "def center_data(X: List[List[float]]) -> List[List[float]]:\n",
        "    \"\"\"\n",
        "    Вход: матрица данных X (n×m)\n",
        "    Выход: центрированная матрица X_centered (n×m)\n",
        "    \"\"\"\n",
        "    if not X or not X[0]:\n",
        "        return X\n",
        "\n",
        "    n_samples = len(X)\n",
        "    n_features = len(X[0])\n",
        "\n",
        "    # находим среднее по каждому\n",
        "    means = [0.0] * n_features\n",
        "    for row in X:\n",
        "        for j in range(n_features):\n",
        "            means[j] += row[j]\n",
        "    means = [m / n_samples for m in means]\n",
        "\n",
        "    # центрируем\n",
        "    X_centered = []\n",
        "    for row in X:\n",
        "        centered_row = [row[j] - means[j] for j in range(n_features)]\n",
        "        X_centered.append(centered_row)\n",
        "\n",
        "    return X_centered, means\n",
        "\n"
      ],
      "metadata": {
        "id": "zL6SwkbZj2L7"
      },
      "execution_count": 6,
      "outputs": []
    },
    {
      "cell_type": "markdown",
      "source": [
        "1.3"
      ],
      "metadata": {
        "id": "IF01TltMj21S"
      }
    },
    {
      "cell_type": "code",
      "source": [
        "from typing import List\n",
        "\n",
        "def covariance_matrix(X_centered: List[List[float]]) -> List[List[float]]:\n",
        "    \"\"\"\n",
        "    Вход: центрированная матрица X_centered (n×m)\n",
        "    Выход: матрица ковариаций C (m×m)\n",
        "    \"\"\"\n",
        "    n = len(X_centered)\n",
        "    if n < 2:\n",
        "        raise ValueError(\"мало\")\n",
        "\n",
        "    if not X_centered:\n",
        "        return []\n",
        "\n",
        "    m = len(X_centered[0])\n",
        "\n",
        "    #проверка, что все строки одинаковой длины\n",
        "    if any(len(row) != m for row in X_centered):\n",
        "        raise ValueError(\"одинаковая длина\")\n",
        "\n",
        "    #инициализация матрицы ковариаций\n",
        "    C = [[0.0 for _ in range(m)] for _ in range(m)]\n",
        "\n",
        "    #вычисляем сумму произведений для каждой пары признаков\n",
        "    for i in range(m):\n",
        "        for j in range(i, m):\n",
        "            cov = sum(X_centered[k][i] * X_centered[k][j] for k in range(n)) / (n - 1)\n",
        "            C[i][j] = cov\n",
        "            if i != j:\n",
        "                C[j][i] = cov\n",
        "\n",
        "    return C"
      ],
      "metadata": {
        "id": "TtvCW10pj4bs"
      },
      "execution_count": 7,
      "outputs": []
    },
    {
      "cell_type": "markdown",
      "source": [
        "2.1"
      ],
      "metadata": {
        "id": "RmN3D5Tzj6LW"
      }
    },
    {
      "cell_type": "code",
      "source": [
        "from typing import List\n",
        "\n",
        "def find_eigenvalues(C: List[List[float]], tol: float = 1e-6, max_iter: int = 100) -> List[float]:\n",
        "    \"\"\"\n",
        "    Вход:\n",
        "    C: матрица ковариаций (m×m)\n",
        "    tol: допустимая погрешность\n",
        "    Выход: список вещественных собственных значений\n",
        "    \"\"\"\n",
        "    m = len(C)\n",
        "    if m != len(C[0]):\n",
        "        raise ValueError(\"Матрица должна быть квадратной\")\n",
        "\n",
        "    # 1. Оценка диапазона λ (круги Гершгорина)\n",
        "    lo, hi = float('inf'), -float('inf')\n",
        "    for i in range(m):\n",
        "        center = C[i][i]\n",
        "        radius = sum(abs(C[i][j]) for j in range(m) if j != i)\n",
        "        lo = min(lo, center - radius)\n",
        "        hi = max(hi, center + radius)\n",
        "\n",
        "    # Если все λ одинаковы (вырожденный случай)\n",
        "    if abs(hi - lo) < tol:\n",
        "        return [C[0][0]] * m\n",
        "\n",
        "\n",
        "\n",
        "    # 3. Поиск интервалов смены знака det(C - λI)\n",
        "    def f(lam: float) -> float:\n",
        "        C_shifted = [row.copy() for row in C]\n",
        "        for i in range(m):\n",
        "            C_shifted[i][i] -= lam\n",
        "            C_shiftedd = Matrix(C_shifted)\n",
        "        return C_shiftedd.determinant()\n",
        "\n",
        "    # Грубая сетка для поиска интервалов\n",
        "    q = m * 4\n",
        "    step = (hi - lo) / q\n",
        "    intervals = []\n",
        "    a = lo\n",
        "    fa = f(a)\n",
        "    for _ in range(q):\n",
        "        b = a + step\n",
        "        fb = f(b)\n",
        "        if abs(fa) < tol:\n",
        "            intervals.append((a, a))\n",
        "        elif abs(fb) < tol:\n",
        "            intervals.append((b, b))\n",
        "        elif fa * fb < 0:\n",
        "            intervals.append((a, b))\n",
        "        a, fa = b, fb\n",
        "\n",
        "    # 4. Уточнение корней бисекцией\n",
        "    roots = []\n",
        "    for a, b in intervals:\n",
        "        if a == b:\n",
        "            roots.append(a)\n",
        "            continue\n",
        "        fa = f(a)\n",
        "        for _ in range(max_iter):\n",
        "            mid = (a + b) / 2\n",
        "            fmid = f(mid)\n",
        "            if abs(fmid) < tol:\n",
        "                roots.append(mid)\n",
        "                break\n",
        "            if fa * fmid < 0:\n",
        "                b = mid\n",
        "            else:\n",
        "                a, fa = mid, fmid\n",
        "        else:\n",
        "            roots.append((a + b) / 2)\n",
        "\n",
        "    # 5. Если корней меньше m, добавляем дубликаты\n",
        "    while len(roots) < m:\n",
        "        roots.append(roots[-1] if roots else 0.0)\n",
        "\n",
        "    return sorted(roots, reverse=True)\n",
        "\n",
        "\n"
      ],
      "metadata": {
        "id": "pxBTU2Oaj6vN"
      },
      "execution_count": 8,
      "outputs": []
    },
    {
      "cell_type": "markdown",
      "source": [
        "2.2"
      ],
      "metadata": {
        "id": "WsQFGuGrj7kI"
      }
    },
    {
      "cell_type": "code",
      "source": [
        "def find_eigenvectors(C: List[List[float]],\n",
        "                     eigenvalues: List[float],\n",
        "                     tol: float = 1e-6) -> List[List[float]]:\n",
        "    \"\"\"\n",
        "    Вход:\n",
        "    C: матрица ковариаций (m×m)\n",
        "    eigenvalues: список собственных значений\n",
        "    Выход: список собственных векторов (каждый вектор - объект Matrix)\n",
        "    \"\"\"\n",
        "    m = len(C)\n",
        "    eigenvectors = []\n",
        "\n",
        "    for lambda_ in eigenvalues:\n",
        "        # матрица (C - λI)\n",
        "        A = [[C[i][j] - (lambda_ if i == j else 0.0) for j in range(m)] for i in range(m)]\n",
        "\n",
        "        # к ступенчатому\n",
        "        rank = 0\n",
        "        for col in range(m):\n",
        "            # макс эл\n",
        "            pivot_row = max(range(rank, m), key=lambda r: abs(A[r][col]), default=-1)\n",
        "            if pivot_row == -1 or abs(A[pivot_row][col]) < tol:\n",
        "                continue\n",
        "\n",
        "            A[rank], A[pivot_row] = A[pivot_row], A[rank]\n",
        "\n",
        "            # нормируем\n",
        "            pivot_val = A[rank][col]\n",
        "            A[rank] = [x/pivot_val for x in A[rank]]\n",
        "\n",
        "            # исключаем из друг\n",
        "            for row in range(m):\n",
        "                if row != rank and abs(A[row][col]) > tol:\n",
        "                    factor = A[row][col]\n",
        "                    A[row] = [A[row][j] - factor * A[rank][j] for j in range(m)]\n",
        "            rank += 1\n",
        "\n",
        "        # Находим свободные переменные\n",
        "        pivot_cols = []\n",
        "        for row in range(rank):\n",
        "            for col in range(m):\n",
        "                if abs(A[row][col]) > tol:\n",
        "                    pivot_cols.append(col)\n",
        "                    break\n",
        "\n",
        "        free_cols = [col for col in range(m) if col not in pivot_cols]\n",
        "\n",
        "        if not free_cols:\n",
        "            # Если не нашли свободных переменных, используем метод обратных итераций\n",
        "            eigenvector = [1.0 if i == 0 else 0.0 for i in range(m)]  # Вектор по умолчанию\n",
        "        else:\n",
        "            # Строим собственный вектор\n",
        "            eigenvector = [0.0]*m\n",
        "            eigenvector[free_cols[0]] = 1.0\n",
        "            for row in reversed(range(rank)):\n",
        "                col = pivot_cols[row]\n",
        "                eigenvector[col] = -sum(A[row][j]*eigenvector[j] for j in range(col+1, m))\n",
        "\n",
        "            # Нормализация\n",
        "            norm = math.sqrt(sum(x**2 for x in eigenvector))\n",
        "            if norm > tol:\n",
        "                eigenvector = [x/norm for x in eigenvector]\n",
        "\n",
        "        eigenvectors.append(eigenvector)\n",
        "\n",
        "    return eigenvectors"
      ],
      "metadata": {
        "id": "y6gSfp66pMQa"
      },
      "execution_count": 9,
      "outputs": []
    },
    {
      "cell_type": "markdown",
      "source": [
        "2.3\n"
      ],
      "metadata": {
        "id": "zLvYxw10j-K1"
      }
    },
    {
      "cell_type": "code",
      "source": [
        "from typing import List\n",
        "\n",
        "def explained_variance_ratio(eigenvalues: List[float], k: int) -> float:\n",
        "    \"\"\"\n",
        "    Вход:\n",
        "    eigenvalues: список собственных значений\n",
        "    k: число компонент\n",
        "    Выход: доля объяснённой дисперсии\n",
        "    \"\"\"\n",
        "    # Отфильтровываем отрицательные значения (возникают из-за численных погрешностей)\n",
        "    eigenvalues = [max(0, eig) for eig in eigenvalues]\n",
        "\n",
        "    total_variance = sum(eigenvalues)\n",
        "\n",
        "    if total_variance <= 0:\n",
        "        return 0.0\n",
        "\n",
        "    # Сортируем по убыванию и берем первые k компонент\n",
        "    sorted_eig = sorted(eigenvalues, reverse=True)[:k]\n",
        "\n",
        "    return sum(sorted_eig) / total_variance"
      ],
      "metadata": {
        "id": "Ga7apibqkCDx"
      },
      "execution_count": 10,
      "outputs": []
    },
    {
      "cell_type": "code",
      "source": [
        "def dot(A: List[List[float]], B: List[List[float]]) -> List[List[float]]:\n",
        "    \"\"\"\n",
        "    Умножение матриц A (n×m) и B (m×p) → результат (n×p)\n",
        "    \"\"\"\n",
        "    n = len(A)\n",
        "    m = len(A[0]) if n > 0 else 0\n",
        "    p = len(B[0]) if len(B) > 0 else 0\n",
        "\n",
        "    # Проверка совместимости размеров\n",
        "    if len(B) != m:\n",
        "        raise ValueError(f\"Несовместимые размеры матриц: A {n}x{m} и B {len(B)}x{p}\")\n",
        "\n",
        "    # Инициализация результирующей матрицы\n",
        "    result = [[0.0 for _ in range(p)] for _ in range(n)]\n",
        "\n",
        "    for i in range(n):\n",
        "        for j in range(p):\n",
        "            for k in range(m):\n",
        "                result[i][j] += A[i][k] * B[k][j]\n",
        "\n",
        "    return result"
      ],
      "metadata": {
        "id": "eHN-0EQrnusU"
      },
      "execution_count": 11,
      "outputs": []
    },
    {
      "cell_type": "code",
      "source": [
        "from typing import List, Tuple\n",
        "\n",
        "def sort_eigen(eigenvalues: List[float],\n",
        "               eigenvectors: List[List[float]]) -> Tuple[List[float], List[List[float]]]:\n",
        "    \"\"\"\n",
        "    Сортирует собственные значения и соответствующие им векторы по убыванию значений.\n",
        "\n",
        "    \"\"\"\n",
        "    # Проверка согласованности входных данных\n",
        "    if len(eigenvalues) != len(eigenvectors):\n",
        "        raise ValueError(\"Количество собственных значений должно совпадать с количеством векторов\")\n",
        "\n",
        "    if not eigenvectors:\n",
        "        return [], []\n",
        "\n",
        "    vector_len = len(eigenvectors[0])\n",
        "    for vec in eigenvectors:\n",
        "        if len(vec) != vector_len:\n",
        "            raise ValueError(\"Все собственные векторы должны иметь одинаковую длину\")\n",
        "\n",
        "    # Создаем список кортежей (значение, вектор) для совместной сортировки\n",
        "    paired = list(zip(eigenvalues, eigenvectors))\n",
        "\n",
        "    # Сортируем по убыванию собственных значений\n",
        "    paired.sort(reverse=True, key=lambda x: x[0])\n",
        "\n",
        "    # Разделяем обратно на значения и векторы\n",
        "    sorted_values, sorted_vectors = zip(*paired)\n",
        "\n",
        "    # Преобразуем векторы к списку списков (на случай если на входе были другие последовательности)\n",
        "    sorted_vectors = [list(vec) for vec in sorted_vectors]\n",
        "\n",
        "    return list(sorted_values), sorted_vectors"
      ],
      "metadata": {
        "id": "19ab6LaZpfgt"
      },
      "execution_count": 12,
      "outputs": []
    },
    {
      "cell_type": "markdown",
      "source": [
        "3.1"
      ],
      "metadata": {
        "id": "TJ19ogN3kDcI"
      }
    },
    {
      "cell_type": "code",
      "source": [
        "def pca(X: List[List[float]], k: int) -> Tuple[List[List[float]], List[List[float]], List[float], float]:\n",
        "    \"\"\"\n",
        "    Вход:\n",
        "    X: матрица данных (n×m)\n",
        "    k: число главных компонент\n",
        "    Выход:\n",
        "    X_proj: проекция данных (n×k)\n",
        "    : доля объяснённой дисперсии\n",
        "    \"\"\"\n",
        "    # 1. Центрирование данных\n",
        "    X_centered, means = center_data(X)\n",
        "\n",
        "    # 2. Ковариационная матрица\n",
        "    cov_mat = covariance_matrix(X_centered)\n",
        "\n",
        "    # 3. Собственные значения и векторы\n",
        "    eigenvalues = find_eigenvalues(cov_mat)\n",
        "    eigenvectors = find_eigenvectors(cov_mat, eigenvalues=eigenvalues)\n",
        "\n",
        "    # 4. Сортировка по убыванию собственных значений\n",
        "    sorted_indices = sorted(range(len(eigenvalues)), key=lambda i: -eigenvalues[i])\n",
        "    eigenvalues_sorted = [eigenvalues[i] for i in sorted_indices]\n",
        "    eigenvectors_sorted = [eigenvectors[i] for i in sorted_indices]\n",
        "\n",
        "    # 5. Выбор первых k компонент\n",
        "    principal_components = eigenvectors_sorted[:k]\n",
        "\n",
        "    # 6. Проекция данных\n",
        "    X_proj = [\n",
        "        [dot_product(row, comp) for comp in principal_components]\n",
        "        for row in X_centered\n",
        "    ]\n",
        "\n",
        "    # 7. Доля объясненной дисперсии\n",
        "    total_variance = sum(eigenvalues_sorted)\n",
        "    var_ratio = sum(eigenvalues_sorted[:k]) / total_variance\n",
        "\n",
        "    return X_proj, principal_components, var_ratio, means"
      ],
      "metadata": {
        "id": "gBauHvscQ2A0"
      },
      "execution_count": 14,
      "outputs": []
    },
    {
      "cell_type": "markdown",
      "source": [
        "3.2"
      ],
      "metadata": {
        "id": "PXGkknUAkGHi"
      }
    },
    {
      "cell_type": "code",
      "source": [
        "# Загрузка данных\n",
        "from sklearn.datasets import load_iris\n",
        "iris = load_iris()\n",
        "data = [list(map(float, row)) for row in iris.data]"
      ],
      "metadata": {
        "id": "Gy8T3Sbpd8wI"
      },
      "execution_count": 15,
      "outputs": []
    },
    {
      "cell_type": "code",
      "source": [
        "pca(X, k=2)"
      ],
      "metadata": {
        "colab": {
          "base_uri": "https://localhost:8080/"
        },
        "id": "p_03Fif9Jwyd",
        "outputId": "dd4c35c6-1a4a-411a-8022-6836f7ff9054"
      },
      "execution_count": 16,
      "outputs": [
        {
          "output_type": "execute_result",
          "data": {
            "text/plain": [
              "([[-3.1581859928660134, 2.756663666041233],\n",
              "  [7.99023350504693, -0.3598636799081363],\n",
              "  [-4.832047512180918, -2.396799986133098]],\n",
              " [[0.9343925502682959, -0.08418289881781073, 0.346155747532437],\n",
              "  [-0.187067145339209, -0.94287838487209, 0.2756560075087032]],\n",
              " 1.0000000000445946,\n",
              " [4.466666666666667, 5.333333333333333, 3.3333333333333335])"
            ]
          },
          "metadata": {},
          "execution_count": 16
        }
      ]
    },
    {
      "cell_type": "code",
      "source": [
        "import matplotlib.pyplot as plt\n",
        "\n",
        "def plot_pca_projection(X_proj: List[List[float]]):\n",
        "    \"\"\"\n",
        "    Вход: проекция данных X_proj (n×2)\n",
        "    Выход: объект Figure из Matplotlib\n",
        "    \"\"\"\n",
        "\n",
        "    if len(X_proj[0]) < 2:\n",
        "        raise ValueError(\"Матрица проекций должна содержать как минимум 2 столбца\")\n",
        "\n",
        "    plt.figure(figsize=(8, 6))\n",
        "    x = [row[0] for row in X_proj]\n",
        "    y = [row[1] for row in X_proj]\n",
        "\n",
        "    plt.scatter(x, y, alpha=0.5)\n",
        "    plt.title('Проекция на первые две главные компоненты')\n",
        "    plt.xlabel('Первая главная компонента')\n",
        "    plt.ylabel('Вторая главная компонента')\n",
        "    plt.grid(True)\n",
        "    plt.show()  # Явный вызов show()\n",
        "proj = pca(data, k = 2)[0]\n",
        "plot_pca_projection(proj)\n"
      ],
      "metadata": {
        "id": "Sp-isgu4kHxG",
        "colab": {
          "base_uri": "https://localhost:8080/",
          "height": 564
        },
        "outputId": "cf931052-b1b8-472f-b62e-0563d84f0f99"
      },
      "execution_count": 17,
      "outputs": [
        {
          "output_type": "display_data",
          "data": {
            "text/plain": [
              "<Figure size 800x600 with 1 Axes>"
            ],
            "image/png": "[encoded data removed]"
          },
          "metadata": {}
        }
      ]
    },
    {
      "cell_type": "markdown",
      "source": [
        "3.3"
      ],
      "metadata": {
        "id": "-N6qsUlskIMk"
      }
    },
    {
      "cell_type": "code",
      "source": [
        "def reconstruction_error(X_orig: 'Matrix', X_recon: 'Matrix') -> float:\n",
        "  \"\"\"\n",
        "  Вход:\n",
        "  X_orig: исходные данные (n×m)\n",
        "  X_recon: восстановленные данные (n×m)\n",
        "  Выход: среднеквадратическая ошибка MSE\n",
        "  \"\"\"\n",
        "  # Проверка размеров матриц\n",
        "  if len(X_orig) != len(X_recon):\n",
        "      raise ValueError(\"Матрицы должны иметь одинаковое количество строк\")\n",
        "\n",
        "  n = len(X_orig)\n",
        "  if n == 0:\n",
        "      return 0.0\n",
        "\n",
        "  m = len(X_orig[0])\n",
        "  total = 0.0\n",
        "  count = 0\n",
        "\n",
        "  for i in range(n):\n",
        "      # Проверка количества столбцов в каждой строке\n",
        "      if len(X_orig[i]) != len(X_recon[i]):\n",
        "          raise ValueError(\"Строки матриц должны иметь одинаковую длину\")\n",
        "\n",
        "      for j in range(m):\n",
        "          diff = X_orig[i][j] - X_recon[i][j]\n",
        "          total += diff * diff\n",
        "          count += 1\n",
        "\n",
        "  # Вычисление среднего значения\n",
        "  if count == 0:\n",
        "      return 0.0\n",
        "\n",
        "  mse = total / count\n",
        "  return mse\n",
        "rec = pca(X, k = 3)[1]\n",
        "reconstruction_error(X, rec)\n"
      ],
      "metadata": {
        "id": "VTUiSefFkJnM",
        "colab": {
          "base_uri": "https://localhost:8080/"
        },
        "outputId": "8c767ffa-5683-4a6f-d23e-196a2b5108ca"
      },
      "execution_count": 18,
      "outputs": [
        {
          "output_type": "execute_result",
          "data": {
            "text/plain": [
              "32.51352283037746"
            ]
          },
          "metadata": {},
          "execution_count": 18
        }
      ]
    },
    {
      "cell_type": "markdown",
      "source": [
        "4.1"
      ],
      "metadata": {
        "id": "MsGTBpxOkKkG"
      }
    },
    {
      "cell_type": "code",
      "source": [
        "def auto_select_k(eigenvalues, threshold=0.85):\n",
        "    \"\"\"\n",
        "    Вход:\n",
        "    eigenvalues: список собственных значений\n",
        "    threshold: порог объяснённой дисперсии\n",
        "    Выход: оптимальное число главных компонент k\n",
        "    \"\"\"\n",
        "    # Проверка входных данных\n",
        "\n",
        "\n",
        "    # Сумма всех собственных значений\n",
        "    total_variance = sum(eigenvalues)\n",
        "    # Накапливаем объяснённую дисперсию\n",
        "    explained_variance = 0.0\n",
        "    k = 0\n",
        "\n",
        "    for i, ev in enumerate(sorted(eigenvalues, reverse=True)):\n",
        "        explained_variance += ev / total_variance\n",
        "        if explained_variance >= threshold:\n",
        "            k = i + 1\n",
        "            break\n",
        "\n",
        "    return k\n",
        "\n",
        "eug = find_eigenvalues(X)\n",
        "auto_select_k(eug)"
      ],
      "metadata": {
        "id": "AZMMGMlFkM7G",
        "colab": {
          "base_uri": "https://localhost:8080/"
        },
        "outputId": "0dd4a2d2-3efa-45bf-b77d-9d44cebcbfef"
      },
      "execution_count": 19,
      "outputs": [
        {
          "output_type": "execute_result",
          "data": {
            "text/plain": [
              "3"
            ]
          },
          "metadata": {},
          "execution_count": 19
        }
      ]
    },
    {
      "cell_type": "markdown",
      "source": [
        "4.2"
      ],
      "metadata": {
        "id": "u9-P6zzZkN88"
      }
    },
    {
      "cell_type": "code",
      "source": [
        "def handle_missing_values(X: 'Matrix') -> 'Matrix':\n",
        "  \"\"\"\n",
        "  Вход: матрица данных X (n×m) с возможными NaN\n",
        "  Выход: матрица данных X_filled (n×m) без NaN\n",
        "  \"\"\"\n",
        "  if not X or not X[0]:\n",
        "      raise ValueError(\"Матрица данных не может быть пустой\")\n",
        "\n",
        "  n_rows = len(X)\n",
        "  n_cols = len(X[0])\n",
        "\n",
        "  # Проверка согласованности размеров\n",
        "  for row in X:\n",
        "      if len(row) != n_cols:\n",
        "          raise ValueError(\"Все строки матрицы должны иметь одинаковую длину\")\n",
        "\n",
        "  # Вычисляем средние по столбцам\n",
        "  column_means = []\n",
        "  for j in range(n_cols):\n",
        "      sum_val = 0.0\n",
        "      count = 0\n",
        "      for i in range(n_rows):\n",
        "          val = X[i][j]\n",
        "          if val is not None and not (isinstance(val, float) and val != val):  # Проверка на NaN\n",
        "              sum_val += val\n",
        "              count += 1\n",
        "\n",
        "      if count == 0:\n",
        "          raise ValueError(f\"Все значения в столбце {j} пропущены\")\n",
        "\n",
        "      column_means.append(sum_val / count)\n",
        "\n",
        "  # Заполняем пропущенные значения\n",
        "  X_filled = []\n",
        "  for i in range(n_rows):\n",
        "      filled_row = []\n",
        "      for j in range(n_cols):\n",
        "          val = X[i][j]\n",
        "          if val is None or (isinstance(val, float) and val != val):  # Проверка на None или NaN\n",
        "              filled_row.append(column_means[j])\n",
        "          else:\n",
        "              filled_row.append(val)\n",
        "      X_filled.append(filled_row)\n",
        "\n",
        "  return X_filled\n",
        "\n",
        "X_bad = [\n",
        "    [1, None, 3],\n",
        "    [None, None, 2],\n",
        "    [3, 2, 1]\n",
        "    ]\n",
        "\n",
        "handle_missing_values(X_bad)\n"
      ],
      "metadata": {
        "id": "4kqbEQSrkPZM",
        "colab": {
          "base_uri": "https://localhost:8080/"
        },
        "outputId": "e34633a5-0620-4e16-e355-5e05eeae7149"
      },
      "execution_count": 20,
      "outputs": [
        {
          "output_type": "execute_result",
          "data": {
            "text/plain": [
              "[[1, 2.0, 3], [2.0, 2.0, 2], [3, 2, 1]]"
            ]
          },
          "metadata": {},
          "execution_count": 20
        }
      ]
    },
    {
      "cell_type": "markdown",
      "source": [
        "4.3"
      ],
      "metadata": {
        "id": "D5JcIYUJkPwt"
      }
    },
    {
      "cell_type": "code",
      "source": [
        "import random\n",
        "import math\n",
        "import random\n",
        "import math\n",
        "from typing import List, Dict, Any\n",
        "\n",
        "\n",
        "def add_noise_and_compare(X: List[List[float]], noise_level: float = 0.1) -> Dict[str, Any]:\n",
        "    \"\"\"\n",
        "    Сравнивает PCA до и после добавления шума\n",
        "\n",
        "    Параметры:\n",
        "        X: матрица данных (n×m)\n",
        "        noise_level: уровень шума (доля от стандартного отклонения)\n",
        "\n",
        "    Возвращает:\n",
        "        Словарь с результатами сравнения PCA\n",
        "    \"\"\"\n",
        "    # 1. Проверка и подготовка входных данных\n",
        "    if not X or not isinstance(X[0], list):\n",
        "        raise ValueError(\"Некорректный формат входных данных\")\n",
        "\n",
        "    n, m = len(X), len(X[0])\n",
        "\n",
        "    # 2. Вычисление статистик с обработкой None\n",
        "    valid_data = [[x for x in row if x is not None] for row in zip(*X)]\n",
        "    means = [sum(col)/len(col) if col else 0.0 for col in valid_data]\n",
        "    stds = [\n",
        "        math.sqrt(sum((x - mean)**2 for x in col)/len(col)) if col else 0.0\n",
        "        for col, mean in zip(valid_data, means)\n",
        "    ]\n",
        "\n",
        "    # 3. PCA для исходных данных\n",
        "    orig_proj, orig_recon, orig_var, means = pca(X, k=min(3, m))\n",
        "\n",
        "    # Получаем собственные значения из проекций\n",
        "    orig_eigvals = [sum(x**2 for x in col)/n for col in zip(*orig_proj)]\n",
        "\n",
        "    # 4. Генерация зашумленных данных\n",
        "    noisy_data = [\n",
        "        [\n",
        "            x + random.gauss(0, noise_level*stds[j]) if x is not None else means[j]\n",
        "            for j, x in enumerate(row)\n",
        "        ]\n",
        "        for row in X\n",
        "    ]\n",
        "\n",
        "    # 5. PCA для зашумленных данных\n",
        "    noisy_proj, noisy_recon, noisy_var, meanss = pca(noisy_data, k=min(3, m))\n",
        "    noisy_eigvals = [sum(x**2 for x in col)/n for col in zip(*noisy_proj)]\n",
        "\n",
        "    # 6. Сравнение результатов\n",
        "    min_len = min(len(orig_eigvals), len(noisy_eigvals))\n",
        "    eigval_diff = [\n",
        "        abs(orig - noisy)\n",
        "        for orig, noisy in zip(orig_eigvals[:min_len], noisy_eigvals[:min_len])\n",
        "    ]\n",
        "\n",
        "    # 7. Формирование результата\n",
        "    return {\n",
        "        'орига': {\n",
        "            'eigenvalues': orig_eigvals[:3],\n",
        "            'explained_variance': orig_var\n",
        "        },\n",
        "        'нойз мси': {\n",
        "            'eigenvalues': noisy_eigvals[:3],\n",
        "            'explained_variance': noisy_var\n",
        "        },\n",
        "        'разница': {\n",
        "            'eigenvalues_diff': eigval_diff,\n",
        "            'variance_loss': orig_var - noisy_var\n",
        "        }\n",
        "    }\n",
        "print(add_noise_and_compare(X))"
      ],
      "metadata": {
        "id": "DWafQNAmkQ8C",
        "colab": {
          "base_uri": "https://localhost:8080/"
        },
        "outputId": "37ee5b3f-3d53-4bd7-c93e-41fff96ddfc7"
      },
      "execution_count": 21,
      "outputs": [
        {
          "output_type": "stream",
          "name": "stdout",
          "text": [
            "{'орига': {'eigenvalues': [32.38888446356115, 4.491115536438845, 6.935067551548482e-20], 'explained_variance': 1.0}, 'нойз мси': {'eigenvalues': [29.953797471816305, 3.9574621958680525, 7.627625004060814e-23], 'explained_variance': 1.0}, 'разница': {'eigenvalues_diff': [2.4350869917448428, 0.5336533405707926, 6.92743992654442e-20], 'variance_loss': 0.0}}\n"
          ]
        }
      ]
    },
    {
      "cell_type": "markdown",
      "source": [
        "4.4"
      ],
      "metadata": {
        "id": "S4mIghYzkSPl"
      }
    },
    {
      "cell_type": "code",
      "source": [
        "from sklearn.datasets import load_iris\n",
        "\n",
        "# Загрузка датасета Iris\n",
        "iris = load_iris()\n",
        "data = iris.data.tolist()  # Конвертируем numpy array в list of lists\n",
        "target = iris.target.tolist()\n",
        "\n",
        "print(\"Размерность данных:\", len(data), \"x\", len(data[0]))\n",
        "print(\"Первые 3 строки:\")\n",
        "for row in data[:3]:\n",
        "    print(row)"
      ],
      "metadata": {
        "colab": {
          "base_uri": "https://localhost:8080/"
        },
        "id": "fCGThiRMBzvt",
        "outputId": "05329998-6be2-42c2-aace-581584308eb2"
      },
      "execution_count": 22,
      "outputs": [
        {
          "output_type": "stream",
          "name": "stdout",
          "text": [
            "Размерность данных: 150 x 4\n",
            "Первые 3 строки:\n",
            "[5.1, 3.5, 1.4, 0.2]\n",
            "[4.9, 3.0, 1.4, 0.2]\n",
            "[4.7, 3.2, 1.3, 0.2]\n"
          ]
        }
      ]
    },
    {
      "cell_type": "code",
      "source": [
        "from typing import List, Tuple\n",
        "from sklearn.datasets import load_iris\n",
        "import random\n",
        "import math\n",
        "\n",
        "\n",
        "\n",
        "def reconstruct(X_pca: List[List[float]], components: List[List[float]], means: List[float]) -> List[List[float]]:\n",
        "    \"\"\"Корректное восстановление данных\"\"\"\n",
        "    n_samples = len(X_pca)\n",
        "    n_features = len(means)\n",
        "    k = len(components)\n",
        "\n",
        "    reconstructed = []\n",
        "    for i in range(n_samples):\n",
        "        row = [0.0]*n_features\n",
        "        for j in range(n_features):\n",
        "            row[j] = means[j]\n",
        "            for comp_idx in range(k):\n",
        "                row[j] += X_pca[i][comp_idx] * components[comp_idx][j]\n",
        "        reconstructed.append(row)\n",
        "    return reconstructed\n",
        "\n",
        "def mse(original: List[List[float]], reconstructed: List[List[float]]) -> float:\n",
        "    \"\"\"Вычисление MSE\"\"\"\n",
        "    total = 0.0\n",
        "    count = 0\n",
        "    for i in range(len(original)):\n",
        "        for j in range(len(original[0])):\n",
        "            total += (original[i][j] - reconstructed[i][j])**2\n",
        "            count += 1\n",
        "    return total / count\n",
        "\n",
        "def total_variance(data: List[List[float]]) -> float:\n",
        "    \"\"\"Общая дисперсия данных\"\"\"\n",
        "    means = calculate_means(data)\n",
        "    centered = [[x - mean for x, mean in zip(row, means)] for row in data]\n",
        "    return sum(x**2 for row in centered for x in row)/(len(data)-1)\n",
        "\n",
        "# Загрузка данных\n",
        "iris = load_iris()\n",
        "data = [list(map(float, row)) for row in iris.data]\n",
        "\n",
        "# Применение PCA\n",
        "k = 2\n",
        "X_pca, components, vrt, means = pca(data, k)\n",
        "\n",
        "# Восстановление данных\n",
        "X_reconstructed = reconstruct(X_pca, components, means)\n",
        "\n",
        "# Оценка качества\n",
        "reconstruction_mse = mse(data, X_reconstructed)\n",
        "total_var = total_variance(data)\n",
        "explained_variance = 1 - reconstruction_mse/total_var\n",
        "\n",
        "print(\"Первые 5 восстановленных образцов:\")\n",
        "for row in X_reconstructed[:5]:\n",
        "    print([round(x, 4) for x in row])\n",
        "\n",
        "print(f\"\\nMSE восстановления: {reconstruction_mse:.4f}\")\n",
        "print(f\"Общая дисперсия: {total_var:.4f}\")\n",
        "print(f\"Объясненная дисперсия: {explained_variance:.2%}\")"
      ],
      "metadata": {
        "colab": {
          "base_uri": "https://localhost:8080/"
        },
        "id": "i0snjr348842",
        "outputId": "e5d94ce0-b22b-48d3-9195-ab810e7f6118"
      },
      "execution_count": 23,
      "outputs": [
        {
          "output_type": "stream",
          "name": "stdout",
          "text": [
            "Первые 5 восстановленных образцов:\n",
            "[3.9033, 3.5111, -0.8408, -0.7241]\n",
            "[3.8816, 3.5161, -0.8923, -0.7456]\n",
            "[3.7552, 3.5457, -1.1918, -0.8709]\n",
            "[3.8591, 3.5214, -0.9457, -0.7679]\n",
            "[3.8711, 3.5186, -0.9172, -0.756]\n",
            "\n",
            "MSE восстановления: 1.1356\n",
            "Общая дисперсия: 4.5730\n",
            "Объясненная дисперсия: 75.17%\n"
          ]
        }
      ]
    },
    {
      "cell_type": "code",
      "source": [],
      "metadata": {
        "id": "AzgkGz1LCTJA"
      },
      "execution_count": 23,
      "outputs": []
    },
    {
      "cell_type": "code",
      "source": [
        "def test_sort_eigen():\n",
        "    # 1. Базовый тест\n",
        "    eigenvalues = [3.0, 1.0, 2.0]\n",
        "    eigenvectors = [\n",
        "        [1, 0],\n",
        "        [0, 1],\n",
        "        [1, 1]\n",
        "    ]\n",
        "    sorted_values, sorted_vectors = sort_eigen(eigenvalues, eigenvectors)\n",
        "    assert sorted_values == [3.0, 2.0, 1.0], f\"Expected sorted eigenvalues: [3.0, 2.0, 1.0], got {sorted_values}\"\n",
        "    assert sorted_vectors == [[1, 0], [1, 1], [0, 1]], f\"Expected sorted eigenvectors: [[1, 0], [1, 1], [0, 1]], got {sorted_vectors}\"\n",
        "\n",
        "    # 2. Тест с отрицательными значениями\n",
        "    eigenvalues = [-1.0, -2.0, 3.0]\n",
        "    eigenvectors = [\n",
        "        [1, 2],\n",
        "        [2, 1],\n",
        "        [0, 1]\n",
        "    ]\n",
        "    sorted_values, sorted_vectors = sort_eigen(eigenvalues, eigenvectors)\n",
        "    assert sorted_values == [3.0, -1.0, -2.0], f\"Expected sorted eigenvalues: [3.0, -1.0, -2.0], got {sorted_values}\"\n",
        "    assert sorted_vectors == [[0, 1], [1, 2], [2, 1]], f\"Expected sorted eigenvectors: [[0, 1], [1, 2], [2, 1]], got {sorted_vectors}\"\n",
        "\n",
        "    # 3. Тест с равными собственными значениями\n",
        "    eigenvalues = [1.0, 1.0, 1.0]\n",
        "    eigenvectors = [\n",
        "        [1, 2],\n",
        "        [2, 1],\n",
        "        [0, 1]\n",
        "    ]\n",
        "    sorted_values, sorted_vectors = sort_eigen(eigenvalues, eigenvectors)\n",
        "    assert sorted_values == [1.0, 1.0, 1.0], f\"Expected sorted eigenvalues: [1.0, 1.0, 1.0], got {sorted_values}\"\n",
        "    assert sorted_vectors == [[1, 2], [2, 1], [0, 1]], f\"Expected sorted eigenvectors: [[1, 2], [2, 1], [0, 1]], got {sorted_vectors}\"\n",
        "\n",
        "    # 4. Тест с различными размерами векторов\n",
        "    try:\n",
        "        eigenvalues = [3.0, 2.0]\n",
        "        eigenvectors = [\n",
        "            [1, 2],\n",
        "            [2]\n",
        "        ]\n",
        "        sort_eigen(eigenvalues, eigenvectors)\n",
        "        assert False, \"Expected ValueError due to different vector lengths\"\n",
        "    except ValueError as e:\n",
        "        assert str(e) == \"Все собственные векторы должны иметь одинаковую длину\", f\"Unexpected error message: {e}\"\n",
        "\n",
        "    # 5. Тест с несовпадающим количеством значений и векторов\n",
        "    try:\n",
        "        eigenvalues = [3.0, 2.0]\n",
        "        eigenvectors = [\n",
        "            [1, 2]\n",
        "        ]\n",
        "        sort_eigen(eigenvalues, eigenvectors)\n",
        "        assert False, \"Expected ValueError due to mismatched eigenvalues and eigenvectors count\"\n",
        "    except ValueError as e:\n",
        "        assert str(e) == \"Количество собственных значений должно совпадать с количеством векторов\", f\"Unexpected error message: {e}\"\n",
        "\n",
        "    print(\"Все тесты прошли успешно!\")\n",
        "\n",
        "# Запуск тестов\n",
        "test_sort_eigen()\n"
      ],
      "metadata": {
        "colab": {
          "base_uri": "https://localhost:8080/"
        },
        "id": "KXz_ncZv5TBn",
        "outputId": "ab54a5b8-9581-48be-db90-ac7af9d97b4a"
      },
      "execution_count": 13,
      "outputs": [
        {
          "output_type": "stream",
          "name": "stdout",
          "text": [
            "Все тесты прошли успешно!\n"
          ]
        }
      ]
    }
  ]
}